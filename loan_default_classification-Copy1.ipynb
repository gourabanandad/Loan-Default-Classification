{
 "cells": [
  {
   "cell_type": "code",
   "execution_count": 1,
   "id": "acd322c9-eea4-4886-9f57-5884f32658ac",
   "metadata": {},
   "outputs": [],
   "source": [
    "import pandas as pd\n",
    "import random as rd\n",
    "import numpy as np\n",
    "import matplotlib.pyplot as plt\n",
    "from datetime import datetime\n",
    "import seaborn as sns\n",
    "from sklearn.utils import shuffle\n",
    "%matplotlib inline"
   ]
  },
  {
   "cell_type": "code",
   "execution_count": 2,
   "id": "0aa6a359-7e8b-4a3b-af78-c111ae4a287d",
   "metadata": {},
   "outputs": [
    {
     "name": "stderr",
     "output_type": "stream",
     "text": [
      "C:\\Users\\goura\\AppData\\Local\\Temp\\ipykernel_3296\\2255243340.py:1: DtypeWarning: Columns (0,19,49,59,118,129,130,131,134,135,136,139,145,146,147) have mixed types. Specify dtype option on import or set low_memory=False.\n",
      "  df = pd.read_csv(\"C:/Users/goura/Desktop/Loan_Default_Classification/accepted_2007_to_2018q4.csv/accepted_2007_to_2018Q4.csv\")\n"
     ]
    }
   ],
   "source": [
    "df = pd.read_csv(\"C:/Users/goura/Desktop/Loan_Default_Classification/accepted_2007_to_2018q4.csv/accepted_2007_to_2018Q4.csv\")"
   ]
  },
  {
   "cell_type": "code",
   "execution_count": 3,
   "id": "30886025-40f1-4a51-882a-14dc41cc9dcb",
   "metadata": {},
   "outputs": [
    {
     "name": "stdout",
     "output_type": "stream",
     "text": [
      "<class 'pandas.core.frame.DataFrame'>\n",
      "RangeIndex: 2260701 entries, 0 to 2260700\n",
      "Columns: 151 entries, id to settlement_term\n",
      "dtypes: float64(113), object(38)\n",
      "memory usage: 2.5+ GB\n"
     ]
    }
   ],
   "source": [
    "df.info()"
   ]
  },
  {
   "cell_type": "code",
   "execution_count": 4,
   "id": "c725f8e6-faf2-4ab2-93ee-86478e796ff5",
   "metadata": {},
   "outputs": [],
   "source": [
    "columns_to_drop = ['id', 'member_id', 'url', 'desc', 'title', 'zip_code', 'pymnt_plan', \n",
    "                   'next_pymnt_d', 'initial_list_status', 'policy_code', 'mths_since_last_record', \n",
    "                   'mths_since_last_delinq', 'mths_since_last_major_derog', 'last_fico_range_low', \n",
    "                   'last_fico_range_high', 'hardship_flag', 'hardship_type', 'hardship_reason', \n",
    "                   'hardship_status', 'deferral_term', 'hardship_amount', 'hardship_start_date', \n",
    "                   'hardship_end_date', 'payment_plan_start_date', 'hardship_length', 'hardship_dpd', \n",
    "                   'hardship_loan_status', 'orig_projected_additional_accrued_interest', \n",
    "                   'hardship_payoff_balance_amount', 'hardship_last_payment_amount', 'disbursement_method', \n",
    "                   'debt_settlement_flag', 'debt_settlement_flag_date', 'settlement_status', 'settlement_date', \n",
    "                   'settlement_amount', 'settlement_percentage', 'settlement_term']\n",
    "df_cleaned = df.drop(columns=columns_to_drop)"
   ]
  },
  {
   "cell_type": "code",
   "execution_count": 5,
   "id": "b268001c-4354-4b70-a9c5-a813ae2db702",
   "metadata": {},
   "outputs": [],
   "source": [
    "drop_null_column = ['funded_amnt_inv', 'total_bal_il', 'emp_title', 'issue_d', 'addr_state', 'out_prncp_inv', 'total_pymnt_inv', 'total_rec_late_fee', 'last_pymnt_d', 'last_pymnt_amnt', 'last_credit_pull_d', 'open_acc_6m', 'open_act_il', 'open_il_12m', 'open_il_24m', 'open_rv_12m', 'open_rv_24m', 'max_bal_bc', 'all_util', 'inq_fi', 'total_cu_tl', 'inq_last_12m', 'acc_open_past_24mths', 'avg_cur_bal', 'bc_open_to_buy', 'bc_util', 'chargeoff_within_12_mths', 'delinq_amnt', 'mo_sin_old_il_acct', 'mo_sin_old_rev_tl_op', 'mo_sin_rcnt_rev_tl_op', 'mo_sin_rcnt_tl', 'mort_acc', 'mths_since_recent_bc', 'mths_since_recent_inq', 'num_accts_ever_120_pd', 'num_actv_bc_tl', 'num_actv_rev_tl', 'num_bc_sats', 'num_bc_tl', 'num_il_tl', 'num_op_rev_tl', 'num_rev_accts', 'num_rev_tl_bal_gt_0', 'num_sats', 'num_tl_120dpd_2m', 'num_tl_30dpd', 'num_tl_90g_dpd_24m', 'percent_bc_gt_75', 'tot_hi_cred_lim', 'total_bal_ex_mort', 'total_bc_limit', 'total_il_high_credit_limit', 'sec_app_mths_since_last_major_derog',  'annual_inc_joint', 'dti_joint', 'verification_status_joint', 'sec_app_collections_12_mths_ex_med', 'sec_app_chargeoff_within_12_mths', 'sec_app_num_rev_accts', 'sec_app_open_act_il', 'sec_app_revol_util', 'sec_app_open_acc', 'sec_app_mort_acc', 'sec_app_inq_last_6mths', 'sec_app_earliest_cr_line', 'sec_app_fico_range_high', 'sec_app_fico_range_low', 'revol_bal_joint', 'mths_since_rcnt_il', 'il_util', 'mths_since_recent_bc_dlq', 'mths_since_recent_revol_delinq']\n",
    "cleaned = df_cleaned.drop(columns=drop_null_column)"
   ]
  },
  {
   "cell_type": "code",
   "execution_count": 6,
   "id": "c2614677-ef1d-4a32-b181-e3b8df7edde4",
   "metadata": {},
   "outputs": [],
   "source": [
    "low_missing_columns = [\n",
    "    'loan_amnt', 'funded_amnt', 'term', 'int_rate', 'installment', 'grade', 'sub_grade', \n",
    "    'home_ownership', 'annual_inc', 'verification_status', 'loan_status', \n",
    "    'fico_range_low', 'fico_range_high', 'revol_bal', 'out_prncp', 'total_pymnt', \n",
    "    'total_rec_prncp', 'total_rec_int', 'recoveries', 'collection_recovery_fee', 'application_type', 'delinq_2yrs', 'open_acc', 'inq_last_6mths', 'pub_rec', 'total_acc', 'collections_12_mths_ex_med', 'acc_now_delinq', 'tax_liens'\n",
    "]\n",
    "df_cleaned = cleaned.dropna(subset=low_missing_columns)"
   ]
  },
  {
   "cell_type": "code",
   "execution_count": 7,
   "id": "8bda7c7d-2218-4aa5-9152-eca538431cce",
   "metadata": {},
   "outputs": [
    {
     "name": "stderr",
     "output_type": "stream",
     "text": [
      "C:\\Users\\goura\\AppData\\Local\\Temp\\ipykernel_3296\\3127002921.py:1: SettingWithCopyWarning: \n",
      "A value is trying to be set on a copy of a slice from a DataFrame.\n",
      "Try using .loc[row_indexer,col_indexer] = value instead\n",
      "\n",
      "See the caveats in the documentation: https://pandas.pydata.org/pandas-docs/stable/user_guide/indexing.html#returning-a-view-versus-a-copy\n",
      "  df_cleaned['dti'] = df_cleaned['dti'].fillna(df_cleaned['dti'].median())\n",
      "C:\\Users\\goura\\AppData\\Local\\Temp\\ipykernel_3296\\3127002921.py:2: SettingWithCopyWarning: \n",
      "A value is trying to be set on a copy of a slice from a DataFrame.\n",
      "Try using .loc[row_indexer,col_indexer] = value instead\n",
      "\n",
      "See the caveats in the documentation: https://pandas.pydata.org/pandas-docs/stable/user_guide/indexing.html#returning-a-view-versus-a-copy\n",
      "  df_cleaned['revol_util'] = df_cleaned['revol_util'].fillna(df_cleaned['revol_util'].median())\n",
      "C:\\Users\\goura\\AppData\\Local\\Temp\\ipykernel_3296\\3127002921.py:3: SettingWithCopyWarning: \n",
      "A value is trying to be set on a copy of a slice from a DataFrame.\n",
      "Try using .loc[row_indexer,col_indexer] = value instead\n",
      "\n",
      "See the caveats in the documentation: https://pandas.pydata.org/pandas-docs/stable/user_guide/indexing.html#returning-a-view-versus-a-copy\n",
      "  df_cleaned['pub_rec_bankruptcies'] = df_cleaned['pub_rec_bankruptcies'].fillna(df_cleaned['pub_rec_bankruptcies'].median())\n",
      "C:\\Users\\goura\\AppData\\Local\\Temp\\ipykernel_3296\\3127002921.py:4: SettingWithCopyWarning: \n",
      "A value is trying to be set on a copy of a slice from a DataFrame.\n",
      "Try using .loc[row_indexer,col_indexer] = value instead\n",
      "\n",
      "See the caveats in the documentation: https://pandas.pydata.org/pandas-docs/stable/user_guide/indexing.html#returning-a-view-versus-a-copy\n",
      "  df_cleaned['tot_coll_amt'] = df_cleaned['tot_coll_amt'].fillna(df_cleaned['tot_coll_amt'].median())\n",
      "C:\\Users\\goura\\AppData\\Local\\Temp\\ipykernel_3296\\3127002921.py:5: SettingWithCopyWarning: \n",
      "A value is trying to be set on a copy of a slice from a DataFrame.\n",
      "Try using .loc[row_indexer,col_indexer] = value instead\n",
      "\n",
      "See the caveats in the documentation: https://pandas.pydata.org/pandas-docs/stable/user_guide/indexing.html#returning-a-view-versus-a-copy\n",
      "  df_cleaned['tot_cur_bal'] = df_cleaned['tot_cur_bal'].fillna(df_cleaned['tot_cur_bal'].median())\n",
      "C:\\Users\\goura\\AppData\\Local\\Temp\\ipykernel_3296\\3127002921.py:6: SettingWithCopyWarning: \n",
      "A value is trying to be set on a copy of a slice from a DataFrame.\n",
      "Try using .loc[row_indexer,col_indexer] = value instead\n",
      "\n",
      "See the caveats in the documentation: https://pandas.pydata.org/pandas-docs/stable/user_guide/indexing.html#returning-a-view-versus-a-copy\n",
      "  df_cleaned['total_rev_hi_lim'] = df_cleaned['total_rev_hi_lim'].fillna(df_cleaned['total_rev_hi_lim'].median())\n",
      "C:\\Users\\goura\\AppData\\Local\\Temp\\ipykernel_3296\\3127002921.py:7: SettingWithCopyWarning: \n",
      "A value is trying to be set on a copy of a slice from a DataFrame.\n",
      "Try using .loc[row_indexer,col_indexer] = value instead\n",
      "\n",
      "See the caveats in the documentation: https://pandas.pydata.org/pandas-docs/stable/user_guide/indexing.html#returning-a-view-versus-a-copy\n",
      "  df_cleaned['num_tl_op_past_12m'] = df_cleaned['num_tl_op_past_12m'].fillna(df_cleaned['num_tl_op_past_12m'].median())\n",
      "C:\\Users\\goura\\AppData\\Local\\Temp\\ipykernel_3296\\3127002921.py:8: SettingWithCopyWarning: \n",
      "A value is trying to be set on a copy of a slice from a DataFrame.\n",
      "Try using .loc[row_indexer,col_indexer] = value instead\n",
      "\n",
      "See the caveats in the documentation: https://pandas.pydata.org/pandas-docs/stable/user_guide/indexing.html#returning-a-view-versus-a-copy\n",
      "  df_cleaned['pct_tl_nvr_dlq'] = df_cleaned['pct_tl_nvr_dlq'].fillna(df_cleaned['pct_tl_nvr_dlq'].median())\n",
      "C:\\Users\\goura\\AppData\\Local\\Temp\\ipykernel_3296\\3127002921.py:9: SettingWithCopyWarning: \n",
      "A value is trying to be set on a copy of a slice from a DataFrame.\n",
      "Try using .loc[row_indexer,col_indexer] = value instead\n",
      "\n",
      "See the caveats in the documentation: https://pandas.pydata.org/pandas-docs/stable/user_guide/indexing.html#returning-a-view-versus-a-copy\n",
      "  df_cleaned['emp_length'] = df_cleaned['emp_length'].fillna(df_cleaned['emp_length'].mode())\n",
      "C:\\Users\\goura\\AppData\\Local\\Temp\\ipykernel_3296\\3127002921.py:10: SettingWithCopyWarning: \n",
      "A value is trying to be set on a copy of a slice from a DataFrame.\n",
      "Try using .loc[row_indexer,col_indexer] = value instead\n",
      "\n",
      "See the caveats in the documentation: https://pandas.pydata.org/pandas-docs/stable/user_guide/indexing.html#returning-a-view-versus-a-copy\n",
      "  df_cleaned['purpose'] = df_cleaned['purpose'].fillna(df_cleaned['purpose'].mode())\n"
     ]
    }
   ],
   "source": [
    "df_cleaned['dti'] = df_cleaned['dti'].fillna(df_cleaned['dti'].median())\n",
    "df_cleaned['revol_util'] = df_cleaned['revol_util'].fillna(df_cleaned['revol_util'].median())\n",
    "df_cleaned['pub_rec_bankruptcies'] = df_cleaned['pub_rec_bankruptcies'].fillna(df_cleaned['pub_rec_bankruptcies'].median())\n",
    "df_cleaned['tot_coll_amt'] = df_cleaned['tot_coll_amt'].fillna(df_cleaned['tot_coll_amt'].median())\n",
    "df_cleaned['tot_cur_bal'] = df_cleaned['tot_cur_bal'].fillna(df_cleaned['tot_cur_bal'].median())\n",
    "df_cleaned['total_rev_hi_lim'] = df_cleaned['total_rev_hi_lim'].fillna(df_cleaned['total_rev_hi_lim'].median())\n",
    "df_cleaned['num_tl_op_past_12m'] = df_cleaned['num_tl_op_past_12m'].fillna(df_cleaned['num_tl_op_past_12m'].median())\n",
    "df_cleaned['pct_tl_nvr_dlq'] = df_cleaned['pct_tl_nvr_dlq'].fillna(df_cleaned['pct_tl_nvr_dlq'].median())\n",
    "df_cleaned['emp_length'] = df_cleaned['emp_length'].fillna(df_cleaned['emp_length'].mode())\n",
    "df_cleaned['purpose'] = df_cleaned['purpose'].fillna(df_cleaned['purpose'].mode())"
   ]
  },
  {
   "cell_type": "code",
   "execution_count": 8,
   "id": "8cc10188-d3d5-4f91-8ae7-6c744ef8ed9c",
   "metadata": {},
   "outputs": [
    {
     "name": "stderr",
     "output_type": "stream",
     "text": [
      "C:\\Users\\goura\\AppData\\Local\\Temp\\ipykernel_3296\\4248550444.py:1: FutureWarning: A value is trying to be set on a copy of a DataFrame or Series through chained assignment using an inplace method.\n",
      "The behavior will change in pandas 3.0. This inplace method will never work because the intermediate object on which we are setting values always behaves as a copy.\n",
      "\n",
      "For example, when doing 'df[col].method(value, inplace=True)', try using 'df.method({col: value}, inplace=True)' or df[col] = df[col].method(value) instead, to perform the operation inplace on the original object.\n",
      "\n",
      "\n",
      "  df_cleaned['emp_length'].fillna(df_cleaned['emp_length'].mode()[0], inplace=True)\n",
      "C:\\Users\\goura\\AppData\\Local\\Temp\\ipykernel_3296\\4248550444.py:1: SettingWithCopyWarning: \n",
      "A value is trying to be set on a copy of a slice from a DataFrame\n",
      "\n",
      "See the caveats in the documentation: https://pandas.pydata.org/pandas-docs/stable/user_guide/indexing.html#returning-a-view-versus-a-copy\n",
      "  df_cleaned['emp_length'].fillna(df_cleaned['emp_length'].mode()[0], inplace=True)\n"
     ]
    }
   ],
   "source": [
    "df_cleaned['emp_length'].fillna(df_cleaned['emp_length'].mode()[0], inplace=True)"
   ]
  },
  {
   "cell_type": "code",
   "execution_count": 9,
   "id": "30d7038c-eb59-4e01-860f-e28bbf3db7e5",
   "metadata": {},
   "outputs": [
    {
     "name": "stderr",
     "output_type": "stream",
     "text": [
      "C:\\Users\\goura\\AppData\\Local\\Temp\\ipykernel_3296\\1118833201.py:14: SettingWithCopyWarning: \n",
      "A value is trying to be set on a copy of a slice from a DataFrame.\n",
      "Try using .loc[row_indexer,col_indexer] = value instead\n",
      "\n",
      "See the caveats in the documentation: https://pandas.pydata.org/pandas-docs/stable/user_guide/indexing.html#returning-a-view-versus-a-copy\n",
      "  df_cleaned['emp_length'] = df_cleaned['emp_length'].map(emp_length_mapping)\n",
      "C:\\Users\\goura\\AppData\\Local\\Temp\\ipykernel_3296\\1118833201.py:15: FutureWarning: A value is trying to be set on a copy of a DataFrame or Series through chained assignment using an inplace method.\n",
      "The behavior will change in pandas 3.0. This inplace method will never work because the intermediate object on which we are setting values always behaves as a copy.\n",
      "\n",
      "For example, when doing 'df[col].method(value, inplace=True)', try using 'df.method({col: value}, inplace=True)' or df[col] = df[col].method(value) instead, to perform the operation inplace on the original object.\n",
      "\n",
      "\n",
      "  df_cleaned['emp_length'].fillna(df_cleaned['emp_length'].median(), inplace=True)\n",
      "C:\\Users\\goura\\AppData\\Local\\Temp\\ipykernel_3296\\1118833201.py:15: SettingWithCopyWarning: \n",
      "A value is trying to be set on a copy of a slice from a DataFrame\n",
      "\n",
      "See the caveats in the documentation: https://pandas.pydata.org/pandas-docs/stable/user_guide/indexing.html#returning-a-view-versus-a-copy\n",
      "  df_cleaned['emp_length'].fillna(df_cleaned['emp_length'].median(), inplace=True)\n"
     ]
    }
   ],
   "source": [
    "emp_length_mapping = {\n",
    "    '< 1 year': 0.5,\n",
    "    '1 year': 1,\n",
    "    '2 years': 2,\n",
    "    '3 years': 3,\n",
    "    '4 years': 4,\n",
    "    '5 years': 5,\n",
    "    '6 years': 6,\n",
    "    '7 years': 7,\n",
    "    '8 years': 8,\n",
    "    '9 years': 9,\n",
    "    '10+ years': 10\n",
    "}\n",
    "df_cleaned['emp_length'] = df_cleaned['emp_length'].map(emp_length_mapping)\n",
    "df_cleaned['emp_length'].fillna(df_cleaned['emp_length'].median(), inplace=True)"
   ]
  },
  {
   "cell_type": "code",
   "execution_count": 10,
   "id": "8a17435f-ec18-47c4-9ebd-5f92762baae0",
   "metadata": {},
   "outputs": [
    {
     "name": "stderr",
     "output_type": "stream",
     "text": [
      "C:\\Users\\goura\\AppData\\Local\\Temp\\ipykernel_3296\\2972006397.py:6: SettingWithCopyWarning: \n",
      "A value is trying to be set on a copy of a slice from a DataFrame.\n",
      "Try using .loc[row_indexer,col_indexer] = value instead\n",
      "\n",
      "See the caveats in the documentation: https://pandas.pydata.org/pandas-docs/stable/user_guide/indexing.html#returning-a-view-versus-a-copy\n",
      "  df_cleaned['home_ownership'] = df_cleaned['home_ownership'].map(home_ownership_mapping)\n"
     ]
    }
   ],
   "source": [
    "home_ownership_mapping = {\n",
    "    'MORTGAGE':0,\n",
    "    'RENT':1,\n",
    "    'OWN':2\n",
    "}\n",
    "df_cleaned['home_ownership'] = df_cleaned['home_ownership'].map(home_ownership_mapping)"
   ]
  },
  {
   "cell_type": "code",
   "execution_count": 11,
   "id": "11c43896-fdd0-4248-8e51-3752f5fbf319",
   "metadata": {},
   "outputs": [
    {
     "name": "stderr",
     "output_type": "stream",
     "text": [
      "C:\\Users\\goura\\AppData\\Local\\Temp\\ipykernel_3296\\49829525.py:6: SettingWithCopyWarning: \n",
      "A value is trying to be set on a copy of a slice from a DataFrame.\n",
      "Try using .loc[row_indexer,col_indexer] = value instead\n",
      "\n",
      "See the caveats in the documentation: https://pandas.pydata.org/pandas-docs/stable/user_guide/indexing.html#returning-a-view-versus-a-copy\n",
      "  df_cleaned['verification_status'] = df_cleaned['verification_status'].map(verification_status_mapping)\n"
     ]
    }
   ],
   "source": [
    "verification_status_mapping = {\n",
    "    'Not Verified':0,\n",
    "    'Source Verified':1,\n",
    "    'Verified':2\n",
    "}\n",
    "df_cleaned['verification_status'] = df_cleaned['verification_status'].map(verification_status_mapping)"
   ]
  },
  {
   "cell_type": "code",
   "execution_count": 12,
   "id": "f3cde9f2-94da-42a9-aa89-9ed5f9c33a1e",
   "metadata": {},
   "outputs": [
    {
     "data": {
      "text/plain": [
       "array(['Fully Paid', 'Current', 'Charged Off', 'In Grace Period',\n",
       "       'Late (31-120 days)', 'Late (16-30 days)', 'Default',\n",
       "       'Does not meet the credit policy. Status:Fully Paid',\n",
       "       'Does not meet the credit policy. Status:Charged Off'],\n",
       "      dtype=object)"
      ]
     },
     "execution_count": 12,
     "metadata": {},
     "output_type": "execute_result"
    }
   ],
   "source": [
    "df_cleaned['loan_status'].unique()"
   ]
  },
  {
   "cell_type": "code",
   "execution_count": 13,
   "id": "21f53029-033c-4591-b9fd-e03ce6c93212",
   "metadata": {},
   "outputs": [
    {
     "data": {
      "text/plain": [
       "40"
      ]
     },
     "execution_count": 13,
     "metadata": {},
     "output_type": "execute_result"
    }
   ],
   "source": [
    "lst = list(df_cleaned['loan_status'])\n",
    "lst.count('Default')"
   ]
  },
  {
   "cell_type": "code",
   "execution_count": 14,
   "id": "66e8dc4a-5e89-4121-aea7-879e5a7a6b5d",
   "metadata": {},
   "outputs": [
    {
     "name": "stderr",
     "output_type": "stream",
     "text": [
      "C:\\Users\\goura\\AppData\\Local\\Temp\\ipykernel_3296\\867387072.py:12: SettingWithCopyWarning: \n",
      "A value is trying to be set on a copy of a slice from a DataFrame.\n",
      "Try using .loc[row_indexer,col_indexer] = value instead\n",
      "\n",
      "See the caveats in the documentation: https://pandas.pydata.org/pandas-docs/stable/user_guide/indexing.html#returning-a-view-versus-a-copy\n",
      "  df_cleaned['loan_status'] = df_cleaned['loan_status'].map(loan_status_mapping)\n"
     ]
    }
   ],
   "source": [
    "loan_status_mapping = {\n",
    "    'Fully Paid': 0,\n",
    "    'Current': 0,\n",
    "    'Charged Off': 1,\n",
    "    'In Grace Period': 1,\n",
    "    'Late (31-120 days)': 1,\n",
    "    'Late (16-30 days)': 1,\n",
    "    'Default': 1,\n",
    "    'Does not meet the credit policy. Status:Fully Paid': 0,\n",
    "    'Does not meet the credit policy. Status:Charged Off': 1\n",
    "}\n",
    "df_cleaned['loan_status'] = df_cleaned['loan_status'].map(loan_status_mapping)"
   ]
  },
  {
   "cell_type": "code",
   "execution_count": 15,
   "id": "927029b8-3252-4853-a59c-01d83ee8e2bb",
   "metadata": {},
   "outputs": [
    {
     "name": "stderr",
     "output_type": "stream",
     "text": [
      "C:\\Users\\goura\\AppData\\Local\\Temp\\ipykernel_3296\\2094341301.py:5: SettingWithCopyWarning: \n",
      "A value is trying to be set on a copy of a slice from a DataFrame.\n",
      "Try using .loc[row_indexer,col_indexer] = value instead\n",
      "\n",
      "See the caveats in the documentation: https://pandas.pydata.org/pandas-docs/stable/user_guide/indexing.html#returning-a-view-versus-a-copy\n",
      "  df_cleaned['application_type'] = df_cleaned['application_type'].map(application_type_mapping)\n"
     ]
    }
   ],
   "source": [
    "application_type_mapping = {\n",
    "    'Individual':0,\n",
    "    'Joint App':1\n",
    "}\n",
    "df_cleaned['application_type'] = df_cleaned['application_type'].map(application_type_mapping)"
   ]
  },
  {
   "cell_type": "code",
   "execution_count": 16,
   "id": "1bdb95ce-4951-4141-ab57-b57f7b2193ef",
   "metadata": {},
   "outputs": [
    {
     "name": "stderr",
     "output_type": "stream",
     "text": [
      "C:\\Users\\goura\\AppData\\Local\\Temp\\ipykernel_3296\\1804118674.py:1: SettingWithCopyWarning: \n",
      "A value is trying to be set on a copy of a slice from a DataFrame.\n",
      "Try using .loc[row_indexer,col_indexer] = value instead\n",
      "\n",
      "See the caveats in the documentation: https://pandas.pydata.org/pandas-docs/stable/user_guide/indexing.html#returning-a-view-versus-a-copy\n",
      "  df_cleaned['term'] = df_cleaned['term'].str.strip()\n",
      "C:\\Users\\goura\\AppData\\Local\\Temp\\ipykernel_3296\\1804118674.py:6: SettingWithCopyWarning: \n",
      "A value is trying to be set on a copy of a slice from a DataFrame.\n",
      "Try using .loc[row_indexer,col_indexer] = value instead\n",
      "\n",
      "See the caveats in the documentation: https://pandas.pydata.org/pandas-docs/stable/user_guide/indexing.html#returning-a-view-versus-a-copy\n",
      "  df_cleaned['term'] = df_cleaned['term'].map(term_mapping)\n"
     ]
    }
   ],
   "source": [
    "df_cleaned['term'] = df_cleaned['term'].str.strip()\n",
    "term_mapping = {\n",
    "    '60 months':0,\n",
    "    '36 months':1\n",
    "}\n",
    "df_cleaned['term'] = df_cleaned['term'].map(term_mapping)"
   ]
  },
  {
   "cell_type": "code",
   "execution_count": 17,
   "id": "7ea22e5a-3a52-4d62-b916-050636c6c39b",
   "metadata": {},
   "outputs": [
    {
     "name": "stderr",
     "output_type": "stream",
     "text": [
      "C:\\Users\\goura\\AppData\\Local\\Temp\\ipykernel_3296\\313361140.py:17: SettingWithCopyWarning: \n",
      "A value is trying to be set on a copy of a slice from a DataFrame.\n",
      "Try using .loc[row_indexer,col_indexer] = value instead\n",
      "\n",
      "See the caveats in the documentation: https://pandas.pydata.org/pandas-docs/stable/user_guide/indexing.html#returning-a-view-versus-a-copy\n",
      "  df_cleaned['purpose'] = df_cleaned['purpose'].map(purpose_mapping)\n"
     ]
    }
   ],
   "source": [
    "purpose_mapping = {\n",
    "    'debt_consolidation': 0,\n",
    "    'small_business': 1,\n",
    "    'home_improvement': 2,\n",
    "    'major_purchase': 3,\n",
    "    'credit_card': 4,\n",
    "    'other': 5,\n",
    "    'house': 6,\n",
    "    'vacation': 7,\n",
    "    'car': 8,\n",
    "    'medical': 9,\n",
    "    'moving': 10,\n",
    "    'renewable_energy': 11,\n",
    "    'wedding': 12,\n",
    "    'educational': 13\n",
    "}\n",
    "df_cleaned['purpose'] = df_cleaned['purpose'].map(purpose_mapping)"
   ]
  },
  {
   "cell_type": "code",
   "execution_count": 18,
   "id": "8c8b130e-67cd-486b-9c41-8a817e035c15",
   "metadata": {},
   "outputs": [
    {
     "name": "stderr",
     "output_type": "stream",
     "text": [
      "C:\\Users\\goura\\AppData\\Local\\Temp\\ipykernel_3296\\1855757074.py:11: SettingWithCopyWarning: \n",
      "A value is trying to be set on a copy of a slice from a DataFrame.\n",
      "Try using .loc[row_indexer,col_indexer] = value instead\n",
      "\n",
      "See the caveats in the documentation: https://pandas.pydata.org/pandas-docs/stable/user_guide/indexing.html#returning-a-view-versus-a-copy\n",
      "  df_cleaned['grade'] = df_cleaned['grade'].map(grade_mapping)\n"
     ]
    }
   ],
   "source": [
    "# A>B>C>D>E>F\n",
    "grade_mapping = {\n",
    "    'A': 0,\n",
    "    'B': 1,\n",
    "    'C': 2,\n",
    "    'D': 3,\n",
    "    'E': 4,\n",
    "    'F': 5,\n",
    "    'G': 6\n",
    "}\n",
    "df_cleaned['grade'] = df_cleaned['grade'].map(grade_mapping)"
   ]
  },
  {
   "cell_type": "code",
   "execution_count": 19,
   "id": "88a25d35-8b9e-4463-af87-78e763e188e2",
   "metadata": {},
   "outputs": [
    {
     "name": "stderr",
     "output_type": "stream",
     "text": [
      "C:\\Users\\goura\\AppData\\Local\\Temp\\ipykernel_3296\\4121050966.py:9: SettingWithCopyWarning: \n",
      "A value is trying to be set on a copy of a slice from a DataFrame.\n",
      "Try using .loc[row_indexer,col_indexer] = value instead\n",
      "\n",
      "See the caveats in the documentation: https://pandas.pydata.org/pandas-docs/stable/user_guide/indexing.html#returning-a-view-versus-a-copy\n",
      "  df_cleaned['sub_grade'] = df_cleaned['sub_grade'].map(sub_grade_mapping)\n"
     ]
    }
   ],
   "source": [
    "sub_grade_order = ['A1', 'A2', 'A3', 'A4', 'A5', \n",
    "                   'B1', 'B2', 'B3', 'B4', 'B5', \n",
    "                   'C1', 'C2', 'C3', 'C4', 'C5', \n",
    "                   'D1', 'D2', 'D3', 'D4', 'D5', \n",
    "                   'E1', 'E2', 'E3', 'E4', 'E5', \n",
    "                   'F1', 'F2', 'F3', 'F4', 'F5', \n",
    "                   'G1', 'G2', 'G3', 'G4', 'G5']\n",
    "sub_grade_mapping = {sub_grade: i for i, sub_grade in enumerate(sub_grade_order)}\n",
    "df_cleaned['sub_grade'] = df_cleaned['sub_grade'].map(sub_grade_mapping)"
   ]
  },
  {
   "cell_type": "code",
   "execution_count": 20,
   "id": "244436b2-9d9a-4df8-bc7f-295d68f3e5d4",
   "metadata": {},
   "outputs": [
    {
     "name": "stderr",
     "output_type": "stream",
     "text": [
      "C:\\Users\\goura\\AppData\\Local\\Temp\\ipykernel_3296\\591800192.py:1: UserWarning: Could not infer format, so each element will be parsed individually, falling back to `dateutil`. To ensure parsing is consistent and as-expected, please specify a format.\n",
      "  df_cleaned['earliest_cr_line'] = pd.to_datetime(df_cleaned['earliest_cr_line'], errors='coerce')\n",
      "C:\\Users\\goura\\AppData\\Local\\Temp\\ipykernel_3296\\591800192.py:1: SettingWithCopyWarning: \n",
      "A value is trying to be set on a copy of a slice from a DataFrame.\n",
      "Try using .loc[row_indexer,col_indexer] = value instead\n",
      "\n",
      "See the caveats in the documentation: https://pandas.pydata.org/pandas-docs/stable/user_guide/indexing.html#returning-a-view-versus-a-copy\n",
      "  df_cleaned['earliest_cr_line'] = pd.to_datetime(df_cleaned['earliest_cr_line'], errors='coerce')\n",
      "C:\\Users\\goura\\AppData\\Local\\Temp\\ipykernel_3296\\591800192.py:2: SettingWithCopyWarning: \n",
      "A value is trying to be set on a copy of a slice from a DataFrame.\n",
      "Try using .loc[row_indexer,col_indexer] = value instead\n",
      "\n",
      "See the caveats in the documentation: https://pandas.pydata.org/pandas-docs/stable/user_guide/indexing.html#returning-a-view-versus-a-copy\n",
      "  df_cleaned['credit_history_length'] = datetime.now().year - df_cleaned['earliest_cr_line'].dt.year\n"
     ]
    }
   ],
   "source": [
    "df_cleaned['earliest_cr_line'] = pd.to_datetime(df_cleaned['earliest_cr_line'], errors='coerce')\n",
    "df_cleaned['credit_history_length'] = datetime.now().year - df_cleaned['earliest_cr_line'].dt.year\n"
   ]
  },
  {
   "cell_type": "code",
   "execution_count": 21,
   "id": "34bb72b0-efb4-4c7f-9e51-ea3a33f7f622",
   "metadata": {},
   "outputs": [
    {
     "name": "stderr",
     "output_type": "stream",
     "text": [
      "C:\\Users\\goura\\AppData\\Local\\Temp\\ipykernel_3296\\2400239070.py:3: SettingWithCopyWarning: \n",
      "A value is trying to be set on a copy of a slice from a DataFrame.\n",
      "Try using .loc[row_indexer,col_indexer] = value instead\n",
      "\n",
      "See the caveats in the documentation: https://pandas.pydata.org/pandas-docs/stable/user_guide/indexing.html#returning-a-view-versus-a-copy\n",
      "  df_cleaned['credit_history_length'] = (pd.to_datetime('today') - pd.to_datetime(df_cleaned['earliest_cr_line'])).dt.days / 365\n"
     ]
    }
   ],
   "source": [
    "if 'earliest_cr_line' in df_cleaned.columns:\n",
    "    # Convert 'earliest_cr_line' to the number of years since the earliest credit line\n",
    "    df_cleaned['credit_history_length'] = (pd.to_datetime('today') - pd.to_datetime(df_cleaned['earliest_cr_line'])).dt.days / 365\n",
    "    # Now drop the original 'earliest_cr_line' column since we have derived a numeric feature from it\n",
    "    df_cleaned = df_cleaned.drop(columns=['earliest_cr_line'])"
   ]
  },
  {
   "cell_type": "code",
   "execution_count": 22,
   "id": "6c05094d-679b-4d3f-855f-ee15a9ba467c",
   "metadata": {},
   "outputs": [],
   "source": [
    "# plt.figure(figsize=(12, 4))\n",
    "# sns.countplot(x=\"loan_status\",data=df_cleaned)"
   ]
  },
  {
   "cell_type": "code",
   "execution_count": 23,
   "id": "ee9724ab-7cf4-44a3-b3d3-ba7d49dd873f",
   "metadata": {},
   "outputs": [],
   "source": [
    "# plt.figure(figsize=(9,4))\n",
    "# sns.distplot(df_cleaned[\"loan_amnt\"],kde=False,bins=40)"
   ]
  },
  {
   "cell_type": "code",
   "execution_count": 24,
   "id": "1c038700-15f8-4886-a366-b37245e1bcbd",
   "metadata": {},
   "outputs": [],
   "source": [
    "# plt.figure(figsize=(30,20))\n",
    "# sns.heatmap(df_cleaned.corr(),annot=True,cmap=\"viridis\")"
   ]
  },
  {
   "cell_type": "code",
   "execution_count": 25,
   "id": "4cc5f63f-80b4-4bdb-87e7-ecbb8f262a98",
   "metadata": {},
   "outputs": [],
   "source": [
    "# sns.scatterplot(x=\"installment\",y=\"loan_amnt\",data=df_cleaned)"
   ]
  },
  {
   "cell_type": "code",
   "execution_count": 26,
   "id": "c02bfe63-24c8-4dbe-a141-6cc972e55d17",
   "metadata": {},
   "outputs": [],
   "source": [
    "# sns.boxplot(x=\"loan_status\",y=\"loan_amnt\",data=df_cleaned)"
   ]
  },
  {
   "cell_type": "code",
   "execution_count": 27,
   "id": "b327fa89-bb85-4dc0-96a5-86a3b9ae9c7d",
   "metadata": {},
   "outputs": [],
   "source": [
    "# df_cleaned.groupby(\"loan_status\")[\"loan_amnt\"].describe()"
   ]
  },
  {
   "cell_type": "code",
   "execution_count": 28,
   "id": "177f98ee-1578-412a-8f26-42d51e325f0d",
   "metadata": {},
   "outputs": [],
   "source": [
    "# sns.countplot(x=\"grade\",hue=\"loan_status\",data=df_cleaned)"
   ]
  },
  {
   "cell_type": "code",
   "execution_count": 29,
   "id": "7ecd1ffa-ec85-484d-8319-9f8861ed6878",
   "metadata": {},
   "outputs": [],
   "source": [
    "# plt.figure(figsize=(12,4))\n",
    "# sub_order=sorted(df_cleaned[\"sub_grade\"].unique())\n",
    "# sns.countplot(x='sub_grade',data=df_cleaned,order=sub_order)"
   ]
  },
  {
   "cell_type": "code",
   "execution_count": 30,
   "id": "d100c533-5fd7-4abf-8ac9-7bb47889229c",
   "metadata": {},
   "outputs": [],
   "source": [
    "# df_cleaned.corr()[\"loan_status\"].sort_values().drop(\"loan_status\").plot(kind=\"bar\")"
   ]
  },
  {
   "cell_type": "code",
   "execution_count": 31,
   "id": "04715e32-ed74-465c-825e-9d42d1edd31d",
   "metadata": {},
   "outputs": [],
   "source": [
    "# plt.figure(figsize=(12,4))\n",
    "# sns.countplot(x=\"verification_status\",data=df_cleaned,hue=\"loan_status\")"
   ]
  },
  {
   "cell_type": "code",
   "execution_count": 32,
   "id": "4076d71f-0757-4a0c-835e-58ecfcfa22c5",
   "metadata": {},
   "outputs": [],
   "source": [
    "data=df_cleaned.sample(frac=.5,random_state=101)"
   ]
  },
  {
   "cell_type": "code",
   "execution_count": 33,
   "id": "78210688-d524-48d4-8424-ea3f4526e8d7",
   "metadata": {},
   "outputs": [
    {
     "name": "stdout",
     "output_type": "stream",
     "text": [
      "X_train shape: (1808417, 39)\n",
      "X_test shape: (452105, 39)\n",
      "y_train shape: (1808417,)\n",
      "y_test shape: (452105,)\n"
     ]
    }
   ],
   "source": [
    "# Import necessary libraries\n",
    "from sklearn.model_selection import train_test_split\n",
    "\n",
    "# Assuming 'df' is your DataFrame\n",
    "# Separate the feature set (X) and the target/label (y)\n",
    "X = df_cleaned.drop(columns=['loan_status'])  # Drop 'loan_status' from the feature set\n",
    "y = df_cleaned['loan_status']  # 'loan_status' as the target\n",
    "\n",
    "# Perform train-test split (80% train, 20% test by default)\n",
    "X_train, X_test, y_train, y_test = train_test_split(X, y, test_size=0.2, random_state=42)\n",
    "\n",
    "# Print the shapes of the splits\n",
    "print(\"X_train shape:\", X_train.shape)\n",
    "print(\"X_test shape:\", X_test.shape)\n",
    "print(\"y_train shape:\", y_train.shape)\n",
    "print(\"y_test shape:\", y_test.shape)\n"
   ]
  },
  {
   "cell_type": "code",
   "execution_count": 34,
   "id": "84823aff-cdd3-4045-9d2d-51133c2201ca",
   "metadata": {},
   "outputs": [],
   "source": [
    "from sklearn.preprocessing import MinMaxScaler"
   ]
  },
  {
   "cell_type": "code",
   "execution_count": 35,
   "id": "46cdc46b-bf69-4034-94b9-725ecf87d3cc",
   "metadata": {},
   "outputs": [],
   "source": [
    "scaler = MinMaxScaler()\n",
    "\n",
    "# Fit the scaler only on the training data and transform both the training and test sets\n",
    "X_train_scaled = scaler.fit_transform(X_train)\n",
    "X_test_scaled = scaler.transform(X_test)"
   ]
  },
  {
   "cell_type": "code",
   "execution_count": 36,
   "id": "1ecffef4-6d23-4539-bfc9-9b63840e78d0",
   "metadata": {},
   "outputs": [],
   "source": [
    "import tensorflow as tf\n",
    "from tensorflow.keras.models import Sequential\n",
    "from tensorflow.keras.layers import Dense,Dropout\n",
    "import logging\n",
    "logging.getLogger('tensorflow').setLevel(logging.ERROR)\n",
    "from tensorflow.keras.callbacks import EarlyStopping"
   ]
  },
  {
   "cell_type": "code",
   "execution_count": 37,
   "id": "be1f2996-ca87-427a-93e4-d7960f4ec3f5",
   "metadata": {},
   "outputs": [
    {
     "name": "stdout",
     "output_type": "stream",
     "text": [
      "Class weights: {0: 0.5776154709035809, 1: 3.721007320957527}\n"
     ]
    }
   ],
   "source": [
    "import numpy as np\n",
    "from sklearn.utils import class_weight\n",
    "\n",
    "# Calculate class weights based on the unique classes in y_train\n",
    "classes_in_y = np.unique(y_train)  # Should now contain both 0 and 1\n",
    "class_weights = class_weight.compute_class_weight(class_weight='balanced', classes=classes_in_y, y=y_train)\n",
    "\n",
    "# Convert to dictionary for TensorFlow\n",
    "class_weight_dict = {int(classes_in_y[i]): class_weights[i] for i in range(len(classes_in_y))}\n",
    "print(\"Class weights:\", class_weight_dict)\n"
   ]
  },
  {
   "cell_type": "code",
   "execution_count": 38,
   "id": "24c608d2-cca3-47ef-89f1-b2fe837ef084",
   "metadata": {},
   "outputs": [
    {
     "name": "stdout",
     "output_type": "stream",
     "text": [
      "Unique values in y_train: [0 1]\n"
     ]
    }
   ],
   "source": [
    "print(\"Unique values in y_train:\", np.unique(y_train))\n"
   ]
  },
  {
   "cell_type": "code",
   "execution_count": 39,
   "id": "a988008f-c852-4e97-a2ce-1cd63f9cf19e",
   "metadata": {},
   "outputs": [],
   "source": [
    "#running model\n",
    "#creating model \n",
    "model = Sequential()\n",
    "\n",
    "#adding layer\n",
    "model.add(Dense(78,activation=\"relu\"))\n",
    "model.add(Dropout(0.2))\n",
    "\n",
    "model.add(Dense(39,activation=\"relu\"))\n",
    "model.add(Dropout(0.2))\n",
    "\n",
    "model.add(Dense(19,activation=\"relu\"))\n",
    "model.add(Dropout(0.2))\n",
    "\n",
    "model.add(Dense(19,activation=\"relu\"))\n",
    "model.add(Dropout(0.2))\n",
    "\n",
    "model.add(Dense(units=1,activation=\"sigmoid\"))\n",
    "\n",
    "model.compile(loss=\"binary_crossentropy\",optimizer=\"adam\")\n",
    "\n",
    "#parameters for early stopping\n",
    "early_stop=EarlyStopping(monitor=\"val_loss\",mode=\"min\",verbose=1,patience=5)"
   ]
  },
  {
   "cell_type": "code",
   "execution_count": 40,
   "id": "b790c3c0-195a-42cc-ab77-cc55ccb04858",
   "metadata": {},
   "outputs": [
    {
     "name": "stdout",
     "output_type": "stream",
     "text": [
      "Class weights: {0: 0.5776154709035809, 1: 3.721007320957527}\n"
     ]
    }
   ],
   "source": [
    "classes_in_y = np.unique(y_train)  # Should contain [0, 1]\n",
    "class_weights = class_weight.compute_class_weight(\n",
    "    class_weight='balanced',\n",
    "    classes=classes_in_y,\n",
    "    y=y_train\n",
    ")\n",
    "\n",
    "# Create the class_weight dictionary with the exact classes from y_train\n",
    "class_weight_dict = {int(classes_in_y[i]): class_weights[i] for i in range(len(classes_in_y))}\n",
    "print(\"Class weights:\", class_weight_dict)"
   ]
  },
  {
   "cell_type": "code",
   "execution_count": 41,
   "id": "534f28b3-ad5e-4216-8b14-f341916fce7a",
   "metadata": {
    "scrolled": true
   },
   "outputs": [
    {
     "name": "stdout",
     "output_type": "stream",
     "text": [
      "Epoch 1/50\n",
      "56514/56514 - 130s - 2ms/step - loss: 0.3959 - val_loss: 0.3940\n",
      "Epoch 2/50\n",
      "56514/56514 - 116s - 2ms/step - loss: 0.3946 - val_loss: 0.3939\n",
      "Epoch 3/50\n",
      "56514/56514 - 111s - 2ms/step - loss: 0.3946 - val_loss: 0.3939\n",
      "Epoch 4/50\n",
      "56514/56514 - 113s - 2ms/step - loss: 0.3946 - val_loss: 0.3939\n",
      "Epoch 5/50\n",
      "56514/56514 - 108s - 2ms/step - loss: 0.3946 - val_loss: 0.3939\n",
      "Epoch 6/50\n",
      "56514/56514 - 117s - 2ms/step - loss: 0.3946 - val_loss: 0.3940\n",
      "Epoch 7/50\n",
      "56514/56514 - 112s - 2ms/step - loss: 0.3946 - val_loss: 0.3939\n",
      "Epoch 8/50\n",
      "56514/56514 - 112s - 2ms/step - loss: 0.3946 - val_loss: 0.3939\n",
      "Epoch 9/50\n",
      "56514/56514 - 114s - 2ms/step - loss: 0.3946 - val_loss: 0.3940\n",
      "Epoch 10/50\n",
      "56514/56514 - 124s - 2ms/step - loss: 0.3946 - val_loss: 0.3939\n",
      "Epoch 11/50\n",
      "56514/56514 - 113s - 2ms/step - loss: 0.3946 - val_loss: 0.3939\n",
      "Epoch 12/50\n",
      "56514/56514 - 106s - 2ms/step - loss: 0.3946 - val_loss: 0.3940\n",
      "Epoch 13/50\n",
      "56514/56514 - 146s - 3ms/step - loss: 0.3946 - val_loss: 0.3939\n",
      "Epoch 14/50\n",
      "56514/56514 - 115s - 2ms/step - loss: 0.3946 - val_loss: 0.3939\n",
      "Epoch 15/50\n",
      "56514/56514 - 111s - 2ms/step - loss: 0.3946 - val_loss: 0.3939\n",
      "Epoch 16/50\n",
      "56514/56514 - 108s - 2ms/step - loss: 0.3946 - val_loss: 0.3939\n",
      "Epoch 17/50\n",
      "56514/56514 - 110s - 2ms/step - loss: 0.3946 - val_loss: 0.3939\n",
      "Epoch 18/50\n",
      "56514/56514 - 107s - 2ms/step - loss: 0.3946 - val_loss: 0.3939\n",
      "Epoch 19/50\n",
      "56514/56514 - 115s - 2ms/step - loss: 0.3946 - val_loss: 0.3939\n",
      "Epoch 20/50\n",
      "56514/56514 - 117s - 2ms/step - loss: 0.3946 - val_loss: 0.3939\n",
      "Epoch 21/50\n",
      "56514/56514 - 115s - 2ms/step - loss: 0.3946 - val_loss: 0.3939\n",
      "Epoch 22/50\n",
      "56514/56514 - 108s - 2ms/step - loss: 0.3946 - val_loss: 0.3940\n",
      "Epoch 23/50\n",
      "56514/56514 - 117s - 2ms/step - loss: 0.3946 - val_loss: 0.3939\n",
      "Epoch 24/50\n",
      "56514/56514 - 108s - 2ms/step - loss: 0.3946 - val_loss: 0.3940\n",
      "Epoch 25/50\n",
      "56514/56514 - 107s - 2ms/step - loss: 0.3946 - val_loss: 0.3939\n",
      "Epoch 26/50\n",
      "56514/56514 - 144s - 3ms/step - loss: 0.3946 - val_loss: 0.3939\n",
      "Epoch 27/50\n",
      "56514/56514 - 109s - 2ms/step - loss: 0.3946 - val_loss: 0.3939\n",
      "Epoch 28/50\n",
      "56514/56514 - 111s - 2ms/step - loss: 0.3946 - val_loss: 0.3939\n",
      "Epoch 29/50\n",
      "56514/56514 - 104s - 2ms/step - loss: 0.3946 - val_loss: 0.3939\n",
      "Epoch 30/50\n",
      "56514/56514 - 103s - 2ms/step - loss: 0.3946 - val_loss: 0.3939\n",
      "Epoch 31/50\n",
      "56514/56514 - 108s - 2ms/step - loss: 0.3946 - val_loss: 0.3939\n",
      "Epoch 32/50\n",
      "56514/56514 - 109s - 2ms/step - loss: 0.3946 - val_loss: 0.3940\n",
      "Epoch 33/50\n",
      "56514/56514 - 105s - 2ms/step - loss: 0.3946 - val_loss: 0.3940\n",
      "Epoch 34/50\n",
      "56514/56514 - 113s - 2ms/step - loss: 0.3946 - val_loss: 0.3939\n",
      "Epoch 35/50\n",
      "56514/56514 - 108s - 2ms/step - loss: 0.3946 - val_loss: 0.3940\n",
      "Epoch 36/50\n",
      "56514/56514 - 111s - 2ms/step - loss: 0.3946 - val_loss: 0.3939\n",
      "Epoch 37/50\n",
      "56514/56514 - 112s - 2ms/step - loss: 0.3946 - val_loss: 0.3939\n",
      "Epoch 38/50\n",
      "56514/56514 - 106s - 2ms/step - loss: 0.3946 - val_loss: 0.3939\n",
      "Epoch 39/50\n",
      "56514/56514 - 104s - 2ms/step - loss: 0.3946 - val_loss: 0.3939\n",
      "Epoch 40/50\n",
      "56514/56514 - 106s - 2ms/step - loss: 0.3946 - val_loss: 0.3940\n",
      "Epoch 41/50\n",
      "56514/56514 - 106s - 2ms/step - loss: 0.3946 - val_loss: 0.3939\n",
      "Epoch 42/50\n",
      "56514/56514 - 118s - 2ms/step - loss: 0.3946 - val_loss: 0.3939\n",
      "Epoch 43/50\n",
      "56514/56514 - 107s - 2ms/step - loss: 0.3946 - val_loss: 0.3940\n",
      "Epoch 44/50\n",
      "56514/56514 - 105s - 2ms/step - loss: 0.3946 - val_loss: 0.3939\n",
      "Epoch 45/50\n",
      "56514/56514 - 113s - 2ms/step - loss: 0.3946 - val_loss: 0.3939\n",
      "Epoch 46/50\n",
      "56514/56514 - 107s - 2ms/step - loss: 0.3946 - val_loss: 0.3940\n",
      "Epoch 47/50\n",
      "56514/56514 - 105s - 2ms/step - loss: 0.3946 - val_loss: 0.3939\n",
      "Epoch 48/50\n",
      "56514/56514 - 105s - 2ms/step - loss: 0.3946 - val_loss: 0.3940\n",
      "Epoch 49/50\n",
      "56514/56514 - 108s - 2ms/step - loss: 0.3946 - val_loss: 0.3939\n",
      "Epoch 50/50\n",
      "56514/56514 - 108s - 2ms/step - loss: 0.3946 - val_loss: 0.3939\n"
     ]
    }
   ],
   "source": [
    "from sklearn.utils import class_weight\n",
    "import numpy as np\n",
    "\n",
    "# Calculate class weights to balance the classes\n",
    "class_weights = class_weight.compute_class_weight(class_weight='balanced', classes=np.array([0, 1]), y=y_train)\n",
    "class_weight_dict = {0: class_weights[0], 1: class_weights[1]}\n",
    "\n",
    "# Train the model with class weights\n",
    "# Train the model with class weights\n",
    "# Run model training without class weights\n",
    "history = model.fit(\n",
    "    X_train_scaled, y_train,\n",
    "    epochs=50,\n",
    "    batch_size=32,\n",
    "    validation_data=(X_test_scaled, y_test),\n",
    "    verbose=2\n",
    ")\n",
    "\n",
    "\n"
   ]
  },
  {
   "cell_type": "code",
   "execution_count": 42,
   "id": "59f9ee83-35d6-4e46-86a8-ad9a2bc2491c",
   "metadata": {},
   "outputs": [],
   "source": [
    "# model.fit(x=X_train,y=y_train,epochs=50,batch_size=32,validation_data=(X_test,y_test),callbacks=[early_stop])"
   ]
  },
  {
   "cell_type": "code",
   "execution_count": 43,
   "id": "c52db4b6-c7f9-4059-97cc-78ccb7a7414f",
   "metadata": {},
   "outputs": [],
   "source": [
    "# loss=pd.DataFrame(model.history.history)\n",
    "\n",
    "# loss.plot()"
   ]
  },
  {
   "cell_type": "code",
   "execution_count": 44,
   "id": "dc69299c-c1fd-4d75-aa1d-2dd5d46f4e95",
   "metadata": {},
   "outputs": [
    {
     "name": "stdout",
     "output_type": "stream",
     "text": [
      "\u001b[1m14129/14129\u001b[0m \u001b[32m━━━━━━━━━━━━━━━━━━━━\u001b[0m\u001b[37m\u001b[0m \u001b[1m17s\u001b[0m 1ms/step\n"
     ]
    },
    {
     "name": "stderr",
     "output_type": "stream",
     "text": [
      "C:\\Users\\goura\\anaconda3\\Lib\\site-packages\\sklearn\\metrics\\_classification.py:1509: UndefinedMetricWarning: Precision is ill-defined and being set to 0.0 in labels with no predicted samples. Use `zero_division` parameter to control this behavior.\n",
      "  _warn_prf(average, modifier, f\"{metric.capitalize()} is\", len(result))\n",
      "C:\\Users\\goura\\anaconda3\\Lib\\site-packages\\sklearn\\metrics\\_classification.py:1509: UndefinedMetricWarning: Precision is ill-defined and being set to 0.0 in labels with no predicted samples. Use `zero_division` parameter to control this behavior.\n",
      "  _warn_prf(average, modifier, f\"{metric.capitalize()} is\", len(result))\n",
      "C:\\Users\\goura\\anaconda3\\Lib\\site-packages\\sklearn\\metrics\\_classification.py:1509: UndefinedMetricWarning: Precision is ill-defined and being set to 0.0 in labels with no predicted samples. Use `zero_division` parameter to control this behavior.\n",
      "  _warn_prf(average, modifier, f\"{metric.capitalize()} is\", len(result))\n"
     ]
    },
    {
     "name": "stdout",
     "output_type": "stream",
     "text": [
      "              precision    recall  f1-score   support\n",
      "\n",
      "           0       0.87      1.00      0.93    391522\n",
      "           1       0.00      0.00      0.00     60583\n",
      "\n",
      "    accuracy                           0.87    452105\n",
      "   macro avg       0.43      0.50      0.46    452105\n",
      "weighted avg       0.75      0.87      0.80    452105\n",
      "\n",
      "Confusion Matrix:\n",
      " [[391522      0]\n",
      " [ 60583      0]]\n",
      "AUC: 0.5\n"
     ]
    },
    {
     "data": {
      "image/png": "[encoded data removed]",
      "text/plain": [
       "<Figure size 640x480 with 1 Axes>"
      ]
     },
     "metadata": {},
     "output_type": "display_data"
    }
   ],
   "source": [
    "from sklearn.metrics import classification_report, confusion_matrix, roc_curve, roc_auc_score, auc\n",
    "\n",
    "# Assuming this is a binary classifier and predict() gives probabilities\n",
    "predict_prob = model.predict(X_test)\n",
    "\n",
    "# Convert probabilities to binary class labels (0 or 1) using threshold of 0.5\n",
    "predict = (predict_prob >= 0.5).astype(int)\n",
    "\n",
    "# Now pass the binary predictions to the classification metrics\n",
    "print(classification_report(y_test, predict))\n",
    "print(\"Confusion Matrix:\\n\", confusion_matrix(y_test, predict))\n",
    "\n",
    "# Calculate ROC curve and AUC score\n",
    "fpr, tpr, thresholds = roc_curve(y_test, predict_prob)\n",
    "roc_auc = auc(fpr, tpr)\n",
    "print(\"AUC:\", roc_auc)\n",
    "\n",
    "# Optionally, plot the ROC curve\n",
    "import matplotlib.pyplot as plt\n",
    "\n",
    "plt.figure()\n",
    "plt.plot(fpr, tpr, label=f'ROC curve (area = {roc_auc:.2f})')\n",
    "plt.plot([0, 1], [0, 1], color='navy', linestyle='--')\n",
    "plt.xlim([0.0, 1.0])\n",
    "plt.ylim([0.0, 1.05])\n",
    "plt.xlabel('False Positive Rate')\n",
    "plt.ylabel('True Positive Rate')\n",
    "plt.title('Receiver Operating Characteristic (ROC)')\n",
    "plt.legend(loc=\"lower right\")\n",
    "plt.show()\n"
   ]
  },
  {
   "cell_type": "code",
   "execution_count": 45,
   "id": "25dff2d8-a0c7-48e4-84ac-a80a57275dce",
   "metadata": {},
   "outputs": [],
   "source": [
    "# # Ensure the true labels are binary (0 and 1)\n",
    "# print(\"Unique values in y_test:\", np.unique(y_test))\n",
    "\n",
    "# # If needed, convert labels to binary (0 or 1)\n",
    "# # For example, if your labels are [0, 2] or [1, 2], you can map them:\n",
    "# y_test = y_test.replace({2: 1})  # If 2 is used to indicate class 1\n"
   ]
  },
  {
   "cell_type": "code",
   "execution_count": 46,
   "id": "b21bb1d2-880a-4b44-8ec3-20f334bc0a27",
   "metadata": {},
   "outputs": [],
   "source": [
    "# Assuming model.predict() returns probabilities for binary classification\n",
    "predict_prob = model.predict(X_test)\n",
    "\n",
    "# Convert probabilities to binary class labels (0 or 1)\n",
    "predict = (predict_prob >= 0.5).astype(int)\n",
    "\n",
    "# Now you can use the classification metrics\n",
    "from sklearn.metrics import classification_report, confusion_matrix, roc_curve, roc_auc_score\n",
    "\n",
    "print(classification_report(y_test, predict))\n",
    "# print(\"Confusion Matrix:\\n\", confusion_matrix(y_test, predict))\n",
    "\n",
    "# ROC curve and AUC score\n",
    "fpr, tpr, thresholds = roc_curve(y_test, predict_prob)\n",
    "roc_auc = roc_auc_score(y_test, predict_prob)\n",
    "print(\"AUC:\", roc_auc)\n"
   ]
  },
  {
   "cell_type": "code",
   "execution_count": 47,
   "id": "c7198b66-0ed5-46bc-bc4a-f31b4138613d",
   "metadata": {},
   "outputs": [],
   "source": [
    "# # Re-run train-test split with stratification\n",
    "# X_train, X_test, y_train, y_test = train_test_split(X, y, test_size=0.3, stratify=y, random_state=42)"
   ]
  },
  {
   "cell_type": "code",
   "execution_count": 48,
   "id": "61cee93d-44f4-4d43-9f5c-5effc69f20d0",
   "metadata": {},
   "outputs": [],
   "source": [
    "# loan_status_mapping_binary = {\n",
    "#     'Fully Paid': 0,\n",
    "#     'Current': 0,\n",
    "#     'Charged Off': 1,\n",
    "#     'In Grace Period': 1,\n",
    "#     'Late (31-120 days)': 1,\n",
    "#     'Late (16-30 days)': 1,\n",
    "#     'Default': 1,\n",
    "#     'Does not meet the credit policy. Status:Fully Paid': 0,\n",
    "#     'Does not meet the credit policy. Status:Charged Off': 1\n",
    "# }\n",
    "\n",
    "# # Apply mapping to create the binary column\n",
    "# # df_cleaned['loan_status_binary'] = df_cleaned['loan_status'].map(loan_status_mapping_binary)\n",
    "\n",
    "# # Verify that only 0 and 1 are present in the new column\n",
    "# print(df_cleaned['loan_status'].unique())\n"
   ]
  },
  {
   "cell_type": "code",
   "execution_count": 49,
   "id": "401250a3",
   "metadata": {},
   "outputs": [],
   "source": [
    "# import numpy as np\n",
    "# from sklearn.utils import class_weight\n",
    "\n",
    "# # Calculate class weights, ensuring `classes` is a NumPy array\n",
    "# class_weights = class_weight.compute_class_weight(\n",
    "#     class_weight='balanced',\n",
    "#     classes=np.array([0, 1]),  # Convert [0, 1] to a NumPy array\n",
    "#     y=y_train\n",
    "# )\n",
    "\n",
    "# # Convert to dictionary format for TensorFlow\n",
    "# class_weight_dict = {0: class_weights[0], 1: class_weights[1]}\n",
    "# print(\"Class weights:\", class_weight_dict)\n",
    "# history = model.fit(X_train_scaled, y_train, epochs=50, batch_size=32,validation_data=(X_test_scaled, y_test), class_weight=class_weight_dict, verbose=2)"
   ]
  },
  {
   "cell_type": "code",
   "execution_count": 50,
   "id": "ee284121-9ca4-4d8a-a337-4d1bcb4a14cb",
   "metadata": {},
   "outputs": [],
   "source": [
    "# from sklearn.utils import class_weight\n",
    "\n",
    "# # Calculate class weights based on the training data\n",
    "# # class_weights = class_weight.compute_class_weight(class_weight='balanced', classes=[0, 1], y=y_train)\n",
    "# # class_weight_dict = {0: class_weights[0], 1: class_weights[1]}\n",
    "\n",
    "# # Train the model with class weights\n",
    "# history = model.fit(\n",
    "#     X_train_scaled, y_train,\n",
    "#     epochs=50,\n",
    "#     batch_size=32,\n",
    "#     validation_data=(X_test_scaled, y_test),\n",
    "#     class_weight=class_weight_dict,  # Apply class weights\n",
    "#     verbose=2\n",
    "# )\n"
   ]
  },
  {
   "cell_type": "code",
   "execution_count": null,
   "id": "bf3f71c7-a221-4331-9b79-568565afe51f",
   "metadata": {},
   "outputs": [],
   "source": []
  }
 ],
 "metadata": {
  "kernelspec": {
   "display_name": "Python 3 (ipykernel)",
   "language": "python",
   "name": "python3"
  },
  "language_info": {
   "codemirror_mode": {
    "name": "ipython",
    "version": 3
   },
   "file_extension": ".py",
   "mimetype": "text/x-python",
   "name": "python",
   "nbconvert_exporter": "python",
   "pygments_lexer": "ipython3",
   "version": "3.12.4"
  }
 },
 "nbformat": 4,
 "nbformat_minor": 5
}
