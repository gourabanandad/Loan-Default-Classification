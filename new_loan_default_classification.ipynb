{
 "cells": [
  {
   "cell_type": "code",
   "execution_count": 1,
   "id": "f587af54-f37f-4cf8-acbd-6c4580291b32",
   "metadata": {},
   "outputs": [],
   "source": [
    "import pandas as pd\n",
    "import numpy as np\n",
    "import matplotlib.pyplot as plt\n",
    "from datetime import datetime\n",
    "import seaborn as sns\n",
    "from sklearn.utils import shuffle\n",
    "%matplotlib inline"
   ]
  },
  {
   "cell_type": "code",
   "execution_count": 2,
   "id": "2e72bb76-4244-4c51-bcfe-10139a516975",
   "metadata": {},
   "outputs": [],
   "source": [
    "df = pd.read_csv('Loan_Default.csv')"
   ]
  },
  {
   "cell_type": "code",
   "execution_count": 3,
   "id": "f98cd6d2-feef-4f6a-afa5-d2b5e413f4cf",
   "metadata": {},
   "outputs": [
    {
     "data": {
      "text/html": [
       "<div>\n",
       "<style scoped>\n",
       "    .dataframe tbody tr th:only-of-type {\n",
       "        vertical-align: middle;\n",
       "    }\n",
       "\n",
       "    .dataframe tbody tr th {\n",
       "        vertical-align: top;\n",
       "    }\n",
       "\n",
       "    .dataframe thead th {\n",
       "        text-align: right;\n",
       "    }\n",
       "</style>\n",
       "<table border=\"1\" class=\"dataframe\">\n",
       "  <thead>\n",
       "    <tr style=\"text-align: right;\">\n",
       "      <th></th>\n",
       "      <th>ID</th>\n",
       "      <th>year</th>\n",
       "      <th>loan_limit</th>\n",
       "      <th>Gender</th>\n",
       "      <th>approv_in_adv</th>\n",
       "      <th>loan_type</th>\n",
       "      <th>loan_purpose</th>\n",
       "      <th>Credit_Worthiness</th>\n",
       "      <th>open_credit</th>\n",
       "      <th>business_or_commercial</th>\n",
       "      <th>...</th>\n",
       "      <th>credit_type</th>\n",
       "      <th>Credit_Score</th>\n",
       "      <th>co-applicant_credit_type</th>\n",
       "      <th>age</th>\n",
       "      <th>submission_of_application</th>\n",
       "      <th>LTV</th>\n",
       "      <th>Region</th>\n",
       "      <th>Security_Type</th>\n",
       "      <th>Status</th>\n",
       "      <th>dtir1</th>\n",
       "    </tr>\n",
       "  </thead>\n",
       "  <tbody>\n",
       "    <tr>\n",
       "      <th>0</th>\n",
       "      <td>24890</td>\n",
       "      <td>2019</td>\n",
       "      <td>cf</td>\n",
       "      <td>Sex Not Available</td>\n",
       "      <td>nopre</td>\n",
       "      <td>type1</td>\n",
       "      <td>p1</td>\n",
       "      <td>l1</td>\n",
       "      <td>nopc</td>\n",
       "      <td>nob/c</td>\n",
       "      <td>...</td>\n",
       "      <td>EXP</td>\n",
       "      <td>758</td>\n",
       "      <td>CIB</td>\n",
       "      <td>25-34</td>\n",
       "      <td>to_inst</td>\n",
       "      <td>98.728814</td>\n",
       "      <td>south</td>\n",
       "      <td>direct</td>\n",
       "      <td>1</td>\n",
       "      <td>45.0</td>\n",
       "    </tr>\n",
       "    <tr>\n",
       "      <th>1</th>\n",
       "      <td>24891</td>\n",
       "      <td>2019</td>\n",
       "      <td>cf</td>\n",
       "      <td>Male</td>\n",
       "      <td>nopre</td>\n",
       "      <td>type2</td>\n",
       "      <td>p1</td>\n",
       "      <td>l1</td>\n",
       "      <td>nopc</td>\n",
       "      <td>b/c</td>\n",
       "      <td>...</td>\n",
       "      <td>EQUI</td>\n",
       "      <td>552</td>\n",
       "      <td>EXP</td>\n",
       "      <td>55-64</td>\n",
       "      <td>to_inst</td>\n",
       "      <td>NaN</td>\n",
       "      <td>North</td>\n",
       "      <td>direct</td>\n",
       "      <td>1</td>\n",
       "      <td>NaN</td>\n",
       "    </tr>\n",
       "    <tr>\n",
       "      <th>2</th>\n",
       "      <td>24892</td>\n",
       "      <td>2019</td>\n",
       "      <td>cf</td>\n",
       "      <td>Male</td>\n",
       "      <td>pre</td>\n",
       "      <td>type1</td>\n",
       "      <td>p1</td>\n",
       "      <td>l1</td>\n",
       "      <td>nopc</td>\n",
       "      <td>nob/c</td>\n",
       "      <td>...</td>\n",
       "      <td>EXP</td>\n",
       "      <td>834</td>\n",
       "      <td>CIB</td>\n",
       "      <td>35-44</td>\n",
       "      <td>to_inst</td>\n",
       "      <td>80.019685</td>\n",
       "      <td>south</td>\n",
       "      <td>direct</td>\n",
       "      <td>0</td>\n",
       "      <td>46.0</td>\n",
       "    </tr>\n",
       "    <tr>\n",
       "      <th>3</th>\n",
       "      <td>24893</td>\n",
       "      <td>2019</td>\n",
       "      <td>cf</td>\n",
       "      <td>Male</td>\n",
       "      <td>nopre</td>\n",
       "      <td>type1</td>\n",
       "      <td>p4</td>\n",
       "      <td>l1</td>\n",
       "      <td>nopc</td>\n",
       "      <td>nob/c</td>\n",
       "      <td>...</td>\n",
       "      <td>EXP</td>\n",
       "      <td>587</td>\n",
       "      <td>CIB</td>\n",
       "      <td>45-54</td>\n",
       "      <td>not_inst</td>\n",
       "      <td>69.376900</td>\n",
       "      <td>North</td>\n",
       "      <td>direct</td>\n",
       "      <td>0</td>\n",
       "      <td>42.0</td>\n",
       "    </tr>\n",
       "    <tr>\n",
       "      <th>4</th>\n",
       "      <td>24894</td>\n",
       "      <td>2019</td>\n",
       "      <td>cf</td>\n",
       "      <td>Joint</td>\n",
       "      <td>pre</td>\n",
       "      <td>type1</td>\n",
       "      <td>p1</td>\n",
       "      <td>l1</td>\n",
       "      <td>nopc</td>\n",
       "      <td>nob/c</td>\n",
       "      <td>...</td>\n",
       "      <td>CRIF</td>\n",
       "      <td>602</td>\n",
       "      <td>EXP</td>\n",
       "      <td>25-34</td>\n",
       "      <td>not_inst</td>\n",
       "      <td>91.886544</td>\n",
       "      <td>North</td>\n",
       "      <td>direct</td>\n",
       "      <td>0</td>\n",
       "      <td>39.0</td>\n",
       "    </tr>\n",
       "    <tr>\n",
       "      <th>5</th>\n",
       "      <td>24895</td>\n",
       "      <td>2019</td>\n",
       "      <td>cf</td>\n",
       "      <td>Joint</td>\n",
       "      <td>pre</td>\n",
       "      <td>type1</td>\n",
       "      <td>p1</td>\n",
       "      <td>l1</td>\n",
       "      <td>nopc</td>\n",
       "      <td>nob/c</td>\n",
       "      <td>...</td>\n",
       "      <td>EXP</td>\n",
       "      <td>864</td>\n",
       "      <td>EXP</td>\n",
       "      <td>35-44</td>\n",
       "      <td>not_inst</td>\n",
       "      <td>70.089286</td>\n",
       "      <td>North</td>\n",
       "      <td>direct</td>\n",
       "      <td>0</td>\n",
       "      <td>40.0</td>\n",
       "    </tr>\n",
       "    <tr>\n",
       "      <th>6</th>\n",
       "      <td>24896</td>\n",
       "      <td>2019</td>\n",
       "      <td>cf</td>\n",
       "      <td>Joint</td>\n",
       "      <td>pre</td>\n",
       "      <td>type1</td>\n",
       "      <td>p3</td>\n",
       "      <td>l1</td>\n",
       "      <td>nopc</td>\n",
       "      <td>nob/c</td>\n",
       "      <td>...</td>\n",
       "      <td>EXP</td>\n",
       "      <td>860</td>\n",
       "      <td>EXP</td>\n",
       "      <td>55-64</td>\n",
       "      <td>to_inst</td>\n",
       "      <td>79.109589</td>\n",
       "      <td>North</td>\n",
       "      <td>direct</td>\n",
       "      <td>0</td>\n",
       "      <td>44.0</td>\n",
       "    </tr>\n",
       "    <tr>\n",
       "      <th>7</th>\n",
       "      <td>24897</td>\n",
       "      <td>2019</td>\n",
       "      <td>NaN</td>\n",
       "      <td>Female</td>\n",
       "      <td>nopre</td>\n",
       "      <td>type1</td>\n",
       "      <td>p4</td>\n",
       "      <td>l1</td>\n",
       "      <td>nopc</td>\n",
       "      <td>nob/c</td>\n",
       "      <td>...</td>\n",
       "      <td>CIB</td>\n",
       "      <td>863</td>\n",
       "      <td>CIB</td>\n",
       "      <td>55-64</td>\n",
       "      <td>to_inst</td>\n",
       "      <td>86.525974</td>\n",
       "      <td>North</td>\n",
       "      <td>direct</td>\n",
       "      <td>0</td>\n",
       "      <td>42.0</td>\n",
       "    </tr>\n",
       "    <tr>\n",
       "      <th>8</th>\n",
       "      <td>24898</td>\n",
       "      <td>2019</td>\n",
       "      <td>cf</td>\n",
       "      <td>Joint</td>\n",
       "      <td>nopre</td>\n",
       "      <td>type1</td>\n",
       "      <td>p3</td>\n",
       "      <td>l1</td>\n",
       "      <td>nopc</td>\n",
       "      <td>nob/c</td>\n",
       "      <td>...</td>\n",
       "      <td>CIB</td>\n",
       "      <td>580</td>\n",
       "      <td>EXP</td>\n",
       "      <td>55-64</td>\n",
       "      <td>to_inst</td>\n",
       "      <td>78.765690</td>\n",
       "      <td>central</td>\n",
       "      <td>direct</td>\n",
       "      <td>0</td>\n",
       "      <td>44.0</td>\n",
       "    </tr>\n",
       "    <tr>\n",
       "      <th>9</th>\n",
       "      <td>24899</td>\n",
       "      <td>2019</td>\n",
       "      <td>cf</td>\n",
       "      <td>Sex Not Available</td>\n",
       "      <td>nopre</td>\n",
       "      <td>type3</td>\n",
       "      <td>p3</td>\n",
       "      <td>l1</td>\n",
       "      <td>nopc</td>\n",
       "      <td>nob/c</td>\n",
       "      <td>...</td>\n",
       "      <td>CIB</td>\n",
       "      <td>788</td>\n",
       "      <td>EXP</td>\n",
       "      <td>55-64</td>\n",
       "      <td>to_inst</td>\n",
       "      <td>63.444767</td>\n",
       "      <td>south</td>\n",
       "      <td>direct</td>\n",
       "      <td>0</td>\n",
       "      <td>30.0</td>\n",
       "    </tr>\n",
       "  </tbody>\n",
       "</table>\n",
       "<p>10 rows × 34 columns</p>\n",
       "</div>"
      ],
      "text/plain": [
       "      ID  year loan_limit             Gender approv_in_adv loan_type  \\\n",
       "0  24890  2019         cf  Sex Not Available         nopre     type1   \n",
       "1  24891  2019         cf               Male         nopre     type2   \n",
       "2  24892  2019         cf               Male           pre     type1   \n",
       "3  24893  2019         cf               Male         nopre     type1   \n",
       "4  24894  2019         cf              Joint           pre     type1   \n",
       "5  24895  2019         cf              Joint           pre     type1   \n",
       "6  24896  2019         cf              Joint           pre     type1   \n",
       "7  24897  2019        NaN             Female         nopre     type1   \n",
       "8  24898  2019         cf              Joint         nopre     type1   \n",
       "9  24899  2019         cf  Sex Not Available         nopre     type3   \n",
       "\n",
       "  loan_purpose Credit_Worthiness open_credit business_or_commercial  ...  \\\n",
       "0           p1                l1        nopc                  nob/c  ...   \n",
       "1           p1                l1        nopc                    b/c  ...   \n",
       "2           p1                l1        nopc                  nob/c  ...   \n",
       "3           p4                l1        nopc                  nob/c  ...   \n",
       "4           p1                l1        nopc                  nob/c  ...   \n",
       "5           p1                l1        nopc                  nob/c  ...   \n",
       "6           p3                l1        nopc                  nob/c  ...   \n",
       "7           p4                l1        nopc                  nob/c  ...   \n",
       "8           p3                l1        nopc                  nob/c  ...   \n",
       "9           p3                l1        nopc                  nob/c  ...   \n",
       "\n",
       "   credit_type  Credit_Score  co-applicant_credit_type    age  \\\n",
       "0          EXP           758                       CIB  25-34   \n",
       "1         EQUI           552                       EXP  55-64   \n",
       "2          EXP           834                       CIB  35-44   \n",
       "3          EXP           587                       CIB  45-54   \n",
       "4         CRIF           602                       EXP  25-34   \n",
       "5          EXP           864                       EXP  35-44   \n",
       "6          EXP           860                       EXP  55-64   \n",
       "7          CIB           863                       CIB  55-64   \n",
       "8          CIB           580                       EXP  55-64   \n",
       "9          CIB           788                       EXP  55-64   \n",
       "\n",
       "   submission_of_application        LTV   Region Security_Type  Status dtir1  \n",
       "0                    to_inst  98.728814    south        direct       1  45.0  \n",
       "1                    to_inst        NaN    North        direct       1   NaN  \n",
       "2                    to_inst  80.019685    south        direct       0  46.0  \n",
       "3                   not_inst  69.376900    North        direct       0  42.0  \n",
       "4                   not_inst  91.886544    North        direct       0  39.0  \n",
       "5                   not_inst  70.089286    North        direct       0  40.0  \n",
       "6                    to_inst  79.109589    North        direct       0  44.0  \n",
       "7                    to_inst  86.525974    North        direct       0  42.0  \n",
       "8                    to_inst  78.765690  central        direct       0  44.0  \n",
       "9                    to_inst  63.444767    south        direct       0  30.0  \n",
       "\n",
       "[10 rows x 34 columns]"
      ]
     },
     "execution_count": 3,
     "metadata": {},
     "output_type": "execute_result"
    }
   ],
   "source": [
    "df.head(10)"
   ]
  },
  {
   "cell_type": "code",
   "execution_count": 4,
   "id": "b07d5dff-04b2-4dd5-bd77-a69d6140a2aa",
   "metadata": {},
   "outputs": [
    {
     "name": "stdout",
     "output_type": "stream",
     "text": [
      "<class 'pandas.core.frame.DataFrame'>\n",
      "RangeIndex: 148670 entries, 0 to 148669\n",
      "Data columns (total 34 columns):\n",
      " #   Column                     Non-Null Count   Dtype  \n",
      "---  ------                     --------------   -----  \n",
      " 0   ID                         148670 non-null  int64  \n",
      " 1   year                       148670 non-null  int64  \n",
      " 2   loan_limit                 145326 non-null  object \n",
      " 3   Gender                     148670 non-null  object \n",
      " 4   approv_in_adv              147762 non-null  object \n",
      " 5   loan_type                  148670 non-null  object \n",
      " 6   loan_purpose               148536 non-null  object \n",
      " 7   Credit_Worthiness          148670 non-null  object \n",
      " 8   open_credit                148670 non-null  object \n",
      " 9   business_or_commercial     148670 non-null  object \n",
      " 10  loan_amount                148670 non-null  int64  \n",
      " 11  rate_of_interest           112231 non-null  float64\n",
      " 12  Interest_rate_spread       112031 non-null  float64\n",
      " 13  Upfront_charges            109028 non-null  float64\n",
      " 14  term                       148629 non-null  float64\n",
      " 15  Neg_ammortization          148549 non-null  object \n",
      " 16  interest_only              148670 non-null  object \n",
      " 17  lump_sum_payment           148670 non-null  object \n",
      " 18  property_value             133572 non-null  float64\n",
      " 19  construction_type          148670 non-null  object \n",
      " 20  occupancy_type             148670 non-null  object \n",
      " 21  Secured_by                 148670 non-null  object \n",
      " 22  total_units                148670 non-null  object \n",
      " 23  income                     139520 non-null  float64\n",
      " 24  credit_type                148670 non-null  object \n",
      " 25  Credit_Score               148670 non-null  int64  \n",
      " 26  co-applicant_credit_type   148670 non-null  object \n",
      " 27  age                        148470 non-null  object \n",
      " 28  submission_of_application  148470 non-null  object \n",
      " 29  LTV                        133572 non-null  float64\n",
      " 30  Region                     148670 non-null  object \n",
      " 31  Security_Type              148670 non-null  object \n",
      " 32  Status                     148670 non-null  int64  \n",
      " 33  dtir1                      124549 non-null  float64\n",
      "dtypes: float64(8), int64(5), object(21)\n",
      "memory usage: 38.6+ MB\n"
     ]
    }
   ],
   "source": [
    "df.info()"
   ]
  },
  {
   "cell_type": "code",
   "execution_count": 5,
   "id": "0b35ca69-2ab2-465f-ae8a-baa73359e7af",
   "metadata": {},
   "outputs": [
    {
     "data": {
      "text/plain": [
       "array([1, 0], dtype=int64)"
      ]
     },
     "execution_count": 5,
     "metadata": {},
     "output_type": "execute_result"
    }
   ],
   "source": [
    "df['Status'].unique()"
   ]
  },
  {
   "cell_type": "code",
   "execution_count": 6,
   "id": "83c9d23d-e3fb-487d-b181-05f76cb0b8b5",
   "metadata": {},
   "outputs": [],
   "source": [
    "df = df.drop(columns=['ID', 'Region', 'Gender'])"
   ]
  },
  {
   "cell_type": "code",
   "execution_count": 7,
   "id": "c40960ee-64b0-40cc-a46c-ade0bb5f6d8d",
   "metadata": {},
   "outputs": [
    {
     "data": {
      "text/plain": [
       "array(['cf', nan, 'ncf'], dtype=object)"
      ]
     },
     "execution_count": 7,
     "metadata": {},
     "output_type": "execute_result"
    }
   ],
   "source": [
    "df['loan_limit'].unique()"
   ]
  },
  {
   "cell_type": "code",
   "execution_count": 8,
   "id": "6fe7a320-e474-4e2f-83c7-ae03793ab766",
   "metadata": {},
   "outputs": [],
   "source": [
    "loan_limit_mapping = {\n",
    "    'cf':0,\n",
    "    'ncf':1\n",
    "}"
   ]
  },
  {
   "cell_type": "code",
   "execution_count": 9,
   "id": "8ee38c98-224d-4e41-bc39-b74bcc177970",
   "metadata": {},
   "outputs": [],
   "source": [
    "df['loan_limit'] = df['loan_limit'].map(loan_limit_mapping)"
   ]
  },
  {
   "cell_type": "code",
   "execution_count": 10,
   "id": "881992fd-4f7c-4da9-bdb5-5fc379acf33d",
   "metadata": {},
   "outputs": [],
   "source": [
    "df['loan_limit'] = df['loan_limit'].fillna(df['loan_limit'].mode()[0])"
   ]
  },
  {
   "cell_type": "code",
   "execution_count": 11,
   "id": "6a009411-8c1e-410b-9043-1908b9239fcf",
   "metadata": {},
   "outputs": [],
   "source": [
    "approv_in_adv_mapping = {\n",
    "    'nopre':0,\n",
    "    'pre':1\n",
    "}"
   ]
  },
  {
   "cell_type": "code",
   "execution_count": 12,
   "id": "b3460907-9927-4a92-bfb6-cc2865e49558",
   "metadata": {},
   "outputs": [],
   "source": [
    "df['approv_in_adv'] = df['approv_in_adv'].map(approv_in_adv_mapping)\n",
    "df['approv_in_adv'] = df['approv_in_adv'].fillna(df['approv_in_adv'].mode()[0])"
   ]
  },
  {
   "cell_type": "code",
   "execution_count": 13,
   "id": "7fe05956-d5d2-4603-830e-caf25df125b9",
   "metadata": {},
   "outputs": [],
   "source": [
    "loan_purpose_mapping = {\n",
    "    'p1':0,\n",
    "    'p2':1,\n",
    "    'p3':2,\n",
    "    'p4':3\n",
    "}"
   ]
  },
  {
   "cell_type": "code",
   "execution_count": 14,
   "id": "c137a94f-a8dc-40cb-b50f-4e3ff1eeaedc",
   "metadata": {},
   "outputs": [],
   "source": [
    "df['loan_purpose'] = df['loan_purpose'].map(loan_purpose_mapping)\n",
    "df['loan_purpose'] = df['loan_purpose'].fillna(df['loan_purpose'].mode()[0])"
   ]
  },
  {
   "cell_type": "code",
   "execution_count": 15,
   "id": "9c746137-9d08-44e9-aabd-f372577009ff",
   "metadata": {},
   "outputs": [],
   "source": [
    "df['rate_of_interest'] = df['rate_of_interest'].fillna(df['rate_of_interest'].median())"
   ]
  },
  {
   "cell_type": "code",
   "execution_count": 16,
   "id": "bd8ec6b7-480a-4856-a72d-914aa135257e",
   "metadata": {},
   "outputs": [],
   "source": [
    "df['Interest_rate_spread'] = df['Interest_rate_spread'].fillna(df['Interest_rate_spread'].median())"
   ]
  },
  {
   "cell_type": "code",
   "execution_count": 17,
   "id": "b9c80a7d-ff4b-437d-ba4e-bb42847a3e38",
   "metadata": {},
   "outputs": [],
   "source": [
    "df['Upfront_charges'] = df['Upfront_charges'].fillna(df['Upfront_charges'].median())"
   ]
  },
  {
   "cell_type": "code",
   "execution_count": 18,
   "id": "ad562fed-7384-4408-8473-59d983ac0c7a",
   "metadata": {},
   "outputs": [],
   "source": [
    "df['property_value'] = df['property_value'].fillna(df['property_value'].median())"
   ]
  },
  {
   "cell_type": "code",
   "execution_count": 19,
   "id": "8973512f-7992-4e30-974e-204fbe2d2a69",
   "metadata": {},
   "outputs": [],
   "source": [
    "df['income'] = df['income'].fillna(df['income'].mean())"
   ]
  },
  {
   "cell_type": "code",
   "execution_count": 20,
   "id": "7651e7e1-c252-47db-b231-4a3a9e92be90",
   "metadata": {},
   "outputs": [],
   "source": [
    "df['LTV'] = df['LTV'].fillna(df['LTV'].median())"
   ]
  },
  {
   "cell_type": "code",
   "execution_count": 21,
   "id": "35f0ff44-5617-4f1b-8d41-5ff61c83c6aa",
   "metadata": {},
   "outputs": [],
   "source": [
    "df['dtir1'] = df['dtir1'].fillna(df['dtir1'].median())"
   ]
  },
  {
   "cell_type": "code",
   "execution_count": 22,
   "id": "6aad4dba-70bd-48f3-a20b-9acdec80d228",
   "metadata": {},
   "outputs": [],
   "source": [
    "low_missing_column = [\n",
    "    'term', 'Neg_ammortization', 'age', 'submission_of_application'\n",
    "]\n",
    "df = df.dropna(subset=low_missing_column)"
   ]
  },
  {
   "cell_type": "code",
   "execution_count": 23,
   "id": "95e7c1cf-e341-444b-9806-4679637b8dda",
   "metadata": {},
   "outputs": [],
   "source": [
    "# Gender_mapping = {\n",
    "#     'Sex Not Available':0,\n",
    "#     'Male':1,\n",
    "#     'Female':2,\n",
    "#     'Joint':3\n",
    "# }"
   ]
  },
  {
   "cell_type": "code",
   "execution_count": 24,
   "id": "a1169805-a42b-4112-bd40-f60af82c5796",
   "metadata": {},
   "outputs": [],
   "source": [
    "# df['Gender'] = df['Gender'].map(Gender_mapping)"
   ]
  },
  {
   "cell_type": "code",
   "execution_count": 25,
   "id": "c4ea2a64-951a-4cf4-bb48-4941015cc2a9",
   "metadata": {},
   "outputs": [],
   "source": [
    "loan_type_mapping={\n",
    "    'type1':0,\n",
    "    'type2':1,\n",
    "    'type3':2\n",
    "}"
   ]
  },
  {
   "cell_type": "code",
   "execution_count": 26,
   "id": "9c473cd1-2f14-4d40-b126-be01ad64fb78",
   "metadata": {},
   "outputs": [],
   "source": [
    "df['loan_type'] = df['loan_type'].map(loan_type_mapping)"
   ]
  },
  {
   "cell_type": "code",
   "execution_count": 27,
   "id": "98eabf27-5200-4b4a-944b-8cd04cd6686d",
   "metadata": {},
   "outputs": [],
   "source": [
    "Credit_Worthiness_mapping = {\n",
    "    'l1':0,\n",
    "    'l2':1\n",
    "}"
   ]
  },
  {
   "cell_type": "code",
   "execution_count": 28,
   "id": "e837585f-e4a1-4e69-8d2b-24e9ac9d11c1",
   "metadata": {},
   "outputs": [],
   "source": [
    "df['Credit_Worthiness'] = df['Credit_Worthiness'].map(Credit_Worthiness_mapping)"
   ]
  },
  {
   "cell_type": "code",
   "execution_count": 29,
   "id": "e12f82c6-cd29-4650-a333-d26cab36215c",
   "metadata": {},
   "outputs": [],
   "source": [
    "open_credit_mapping = {\n",
    "    'nopc':1,\n",
    "    'opc':2\n",
    "}"
   ]
  },
  {
   "cell_type": "code",
   "execution_count": 30,
   "id": "22da4e1e-1e75-424b-a2f9-04d54492628b",
   "metadata": {},
   "outputs": [],
   "source": [
    "df['open_credit'] = df['open_credit'].map(open_credit_mapping)"
   ]
  },
  {
   "cell_type": "code",
   "execution_count": 31,
   "id": "5f4a9817-12c5-4783-bc44-d71920b047a3",
   "metadata": {},
   "outputs": [],
   "source": [
    "business_or_commercial_mapping = {\n",
    "    'nob/c':0,\n",
    "    'b/c':1\n",
    "}"
   ]
  },
  {
   "cell_type": "code",
   "execution_count": 32,
   "id": "e5b9e1a5-ef44-44db-b696-d0d7f5180aee",
   "metadata": {},
   "outputs": [],
   "source": [
    "df['business_or_commercial'] = df['business_or_commercial'].map(business_or_commercial_mapping)"
   ]
  },
  {
   "cell_type": "code",
   "execution_count": 33,
   "id": "9eee26f5-e8df-4f5f-ad19-8f19c6366207",
   "metadata": {},
   "outputs": [],
   "source": [
    "Neg_ammortization_mapping = {\n",
    "    'not_neg':0,\n",
    "    'neg_amm':1\n",
    "}"
   ]
  },
  {
   "cell_type": "code",
   "execution_count": 34,
   "id": "b409238f-8273-4e82-9087-d690a010be73",
   "metadata": {},
   "outputs": [],
   "source": [
    "df['Neg_ammortization'] = df['Neg_ammortization'].map(Neg_ammortization_mapping)"
   ]
  },
  {
   "cell_type": "code",
   "execution_count": 35,
   "id": "ac69ea78-0233-4e0c-97fc-f29163fae2df",
   "metadata": {},
   "outputs": [],
   "source": [
    "interest_only_mapping = {\n",
    "    'not_int':0,\n",
    "    'int_only':1\n",
    "}"
   ]
  },
  {
   "cell_type": "code",
   "execution_count": 36,
   "id": "25399cac-12cb-4a70-a45c-bb55ce8eb0fe",
   "metadata": {},
   "outputs": [],
   "source": [
    "df['interest_only'] = df['interest_only'].map(interest_only_mapping)"
   ]
  },
  {
   "cell_type": "code",
   "execution_count": 37,
   "id": "76a8eee3-0cf5-4420-ac3d-938e7decfebe",
   "metadata": {},
   "outputs": [],
   "source": [
    "lump_sum_payment_mapping = {\n",
    "    'not_lpsm':0,\n",
    "    'lpsm':1\n",
    "}"
   ]
  },
  {
   "cell_type": "code",
   "execution_count": 38,
   "id": "21d4be8d-c3ac-4de1-81c9-3f073bd8b4ae",
   "metadata": {},
   "outputs": [],
   "source": [
    "df['lump_sum_payment'] = df['lump_sum_payment'].map(lump_sum_payment_mapping)"
   ]
  },
  {
   "cell_type": "code",
   "execution_count": 39,
   "id": "dc24cb43-edbb-4a1e-bbf3-850d945cf169",
   "metadata": {},
   "outputs": [],
   "source": [
    "construction_type_mapping = {\n",
    "    'sb':0,\n",
    "    'mh':1\n",
    "}"
   ]
  },
  {
   "cell_type": "code",
   "execution_count": 40,
   "id": "cbf68b4b-01d6-4515-8f81-cca5c9f7990f",
   "metadata": {},
   "outputs": [],
   "source": [
    "df['construction_type'] = df['construction_type'].map(construction_type_mapping)"
   ]
  },
  {
   "cell_type": "code",
   "execution_count": 41,
   "id": "6e7cf3eb-df11-4dc9-ad95-8b8f39db9dd1",
   "metadata": {},
   "outputs": [],
   "source": [
    "occupancy_type_mappingm = {\n",
    "    'pr':0,\n",
    "    'sr':1,\n",
    "    'ir':2\n",
    "}"
   ]
  },
  {
   "cell_type": "code",
   "execution_count": 42,
   "id": "f7a33b08-bfcc-489d-9018-02b4c4c072b8",
   "metadata": {},
   "outputs": [],
   "source": [
    "df['occupancy_type'] = df['occupancy_type'].map(occupancy_type_mappingm)"
   ]
  },
  {
   "cell_type": "code",
   "execution_count": 43,
   "id": "5c76f23a-cdfa-4001-882d-ab8a2dbcea51",
   "metadata": {},
   "outputs": [],
   "source": [
    "Secured_by_mapping = {\n",
    "    'home':0,\n",
    "    'land':1\n",
    "}"
   ]
  },
  {
   "cell_type": "code",
   "execution_count": 44,
   "id": "6af0531e-3269-46c3-9d92-8c050a331e1d",
   "metadata": {},
   "outputs": [],
   "source": [
    "df['Secured_by'] = df['Secured_by'].map(Secured_by_mapping)"
   ]
  },
  {
   "cell_type": "code",
   "execution_count": 45,
   "id": "1b972d84-c07a-45bb-8686-c2f2a95688b5",
   "metadata": {},
   "outputs": [],
   "source": [
    "total_units_mapping = {\n",
    "    '1U':0,\n",
    "    '2U':1,\n",
    "    '3U':2,\n",
    "    '4U':3\n",
    "}"
   ]
  },
  {
   "cell_type": "code",
   "execution_count": 46,
   "id": "ff11c4aa-610b-4633-bfd7-4a6a0d4aeb76",
   "metadata": {},
   "outputs": [],
   "source": [
    "df['total_units'] = df['total_units'].map(total_units_mapping)"
   ]
  },
  {
   "cell_type": "code",
   "execution_count": 47,
   "id": "79c61bd6-11e0-4368-9666-3968f6cb1f75",
   "metadata": {},
   "outputs": [],
   "source": [
    "credit_type_mapping = {\n",
    "    'EXP':0,\n",
    "    'EQUI':1,\n",
    "    'CRIF':2,\n",
    "    'CIB':3\n",
    "}"
   ]
  },
  {
   "cell_type": "code",
   "execution_count": 48,
   "id": "28fc9018-bd2e-4526-aae4-73af6d04f8bd",
   "metadata": {},
   "outputs": [],
   "source": [
    "df['credit_type'] = df['credit_type'].map(credit_type_mapping)"
   ]
  },
  {
   "cell_type": "code",
   "execution_count": 49,
   "id": "a95e7f4c-f133-4e65-be7b-830f1f81dcc5",
   "metadata": {},
   "outputs": [],
   "source": [
    "coapplicant_credit_type_mapping = {\n",
    "    'CIB':0,\n",
    "    'EXP':1\n",
    "}"
   ]
  },
  {
   "cell_type": "code",
   "execution_count": 50,
   "id": "ea812f40-d2e5-4910-9920-3f1316c0f251",
   "metadata": {},
   "outputs": [],
   "source": [
    "df['co-applicant_credit_type'] = df['co-applicant_credit_type'].map(coapplicant_credit_type_mapping)"
   ]
  },
  {
   "cell_type": "code",
   "execution_count": 51,
   "id": "b9b4be92-8eb8-4815-a6db-681ad2a3fde1",
   "metadata": {},
   "outputs": [],
   "source": [
    "submission_of_application_mapping = {\n",
    "    'to_inst':0,\n",
    "    'not_inst':1\n",
    "}"
   ]
  },
  {
   "cell_type": "code",
   "execution_count": 52,
   "id": "ae03a471-922f-4f6c-b433-190936a4fdaf",
   "metadata": {},
   "outputs": [],
   "source": [
    "df['submission_of_application'] = df['submission_of_application'].map(submission_of_application_mapping)"
   ]
  },
  {
   "cell_type": "code",
   "execution_count": 53,
   "id": "1d50a12a-4d95-4de1-87c5-6e7c2f970fb0",
   "metadata": {},
   "outputs": [],
   "source": [
    "Security_Type_mapping = {\n",
    "    'direct':0,\n",
    "    'Indriect':1\n",
    "}"
   ]
  },
  {
   "cell_type": "code",
   "execution_count": 54,
   "id": "c497850f-504b-442f-a1ad-1dd5847db1c7",
   "metadata": {},
   "outputs": [],
   "source": [
    "df['Security_Type'] = df['Security_Type'].map(Security_Type_mapping)"
   ]
  },
  {
   "cell_type": "code",
   "execution_count": 55,
   "id": "de0f294e-83e3-44a5-b0ca-9db10c9bb802",
   "metadata": {},
   "outputs": [
    {
     "data": {
      "text/plain": [
       "array(['25-34', '55-64', '35-44', '45-54', '65-74', '>74', '<25'],\n",
       "      dtype=object)"
      ]
     },
     "execution_count": 55,
     "metadata": {},
     "output_type": "execute_result"
    }
   ],
   "source": [
    "df['age'].unique()"
   ]
  },
  {
   "cell_type": "code",
   "execution_count": 56,
   "id": "cabca732-bdf4-4706-b1d8-5758ea910770",
   "metadata": {},
   "outputs": [],
   "source": [
    "age_mapping = {\n",
    "    '25-34':0,\n",
    "    '55-64':1,\n",
    "    '35-44':2,\n",
    "    '45-54':3,\n",
    "    '65-74':4,\n",
    "    '>74':5,\n",
    "    '<25':6\n",
    "}"
   ]
  },
  {
   "cell_type": "code",
   "execution_count": 57,
   "id": "ad81d8d3-96cc-4210-8895-8cea5a1f683b",
   "metadata": {},
   "outputs": [],
   "source": [
    "df['age'] = df['age'].map(age_mapping)"
   ]
  },
  {
   "cell_type": "code",
   "execution_count": 58,
   "id": "695bab5d-378a-4daf-b452-40067a3dbf08",
   "metadata": {},
   "outputs": [
    {
     "name": "stdout",
     "output_type": "stream",
     "text": [
      "<class 'pandas.core.frame.DataFrame'>\n",
      "Index: 148308 entries, 0 to 148669\n",
      "Data columns (total 31 columns):\n",
      " #   Column                     Non-Null Count   Dtype  \n",
      "---  ------                     --------------   -----  \n",
      " 0   year                       148308 non-null  int64  \n",
      " 1   loan_limit                 148308 non-null  float64\n",
      " 2   approv_in_adv              148308 non-null  float64\n",
      " 3   loan_type                  148308 non-null  int64  \n",
      " 4   loan_purpose               148308 non-null  float64\n",
      " 5   Credit_Worthiness          148308 non-null  int64  \n",
      " 6   open_credit                148308 non-null  int64  \n",
      " 7   business_or_commercial     148308 non-null  int64  \n",
      " 8   loan_amount                148308 non-null  int64  \n",
      " 9   rate_of_interest           148308 non-null  float64\n",
      " 10  Interest_rate_spread       148308 non-null  float64\n",
      " 11  Upfront_charges            148308 non-null  float64\n",
      " 12  term                       148308 non-null  float64\n",
      " 13  Neg_ammortization          148308 non-null  int64  \n",
      " 14  interest_only              148308 non-null  int64  \n",
      " 15  lump_sum_payment           148308 non-null  int64  \n",
      " 16  property_value             148308 non-null  float64\n",
      " 17  construction_type          148308 non-null  int64  \n",
      " 18  occupancy_type             148308 non-null  int64  \n",
      " 19  Secured_by                 148308 non-null  int64  \n",
      " 20  total_units                148308 non-null  int64  \n",
      " 21  income                     148308 non-null  float64\n",
      " 22  credit_type                148308 non-null  int64  \n",
      " 23  Credit_Score               148308 non-null  int64  \n",
      " 24  co-applicant_credit_type   148308 non-null  int64  \n",
      " 25  age                        148308 non-null  int64  \n",
      " 26  submission_of_application  148308 non-null  int64  \n",
      " 27  LTV                        148308 non-null  float64\n",
      " 28  Security_Type              148308 non-null  int64  \n",
      " 29  Status                     148308 non-null  int64  \n",
      " 30  dtir1                      148308 non-null  float64\n",
      "dtypes: float64(11), int64(20)\n",
      "memory usage: 36.2 MB\n"
     ]
    }
   ],
   "source": [
    "df.info()"
   ]
  },
  {
   "cell_type": "code",
   "execution_count": 59,
   "id": "1ee2924a-5102-46cf-8940-219b7c2bc4ee",
   "metadata": {},
   "outputs": [
    {
     "name": "stdout",
     "output_type": "stream",
     "text": [
      "X_train shape: (103815, 30)\n",
      "X_test shape: (44493, 30)\n",
      "y_train shape: (103815,)\n",
      "y_test shape: (44493,)\n"
     ]
    }
   ],
   "source": [
    "# Import necessary libraries\n",
    "from sklearn.model_selection import train_test_split\n",
    "\n",
    "# Assuming 'df' is your DataFrame\n",
    "# Separate the feature set (X) and the target/label (y)\n",
    "X = df.drop(columns=['Status'])  # Drop 'loan_status' from the feature set\n",
    "y = df['Status']  # 'loan_status' as the target\n",
    "\n",
    "# Perform train-test split (80% train, 20% test by default)\n",
    "X_train, X_test, y_train, y_test = train_test_split(X, y, test_size=0.3, random_state=23)\n",
    "\n",
    "# Print the shapes of the splits\n",
    "print(\"X_train shape:\", X_train.shape)\n",
    "print(\"X_test shape:\", X_test.shape)\n",
    "print(\"y_train shape:\", y_train.shape)\n",
    "print(\"y_test shape:\", y_test.shape)\n"
   ]
  },
  {
   "cell_type": "code",
   "execution_count": 60,
   "id": "21980f48-afbc-4e05-a36f-9c883e3dad01",
   "metadata": {},
   "outputs": [],
   "source": [
    "# from sklearn.model_selection import StratifiedShuffleSplit\n",
    "# df.reset_index(drop=True, inplace=True)\n",
    "# # Assume new_data is your DataFrame and 'Status' is the target variable\n",
    "# split = StratifiedShuffleSplit(n_splits=1, test_size=0.3, random_state=42)\n",
    "\n",
    "# for train_index, test_index in split.split(df, df['Status']):\n",
    "#     train_data = df.loc[train_index]\n",
    "#     test_data = df.loc[test_index]\n",
    "\n",
    "# # Separate features and target\n",
    "# X_train = train_data.drop('Status', axis=1)\n",
    "# y_train = train_data['Status']\n",
    "# X_test = test_data.drop('Status', axis=1)\n",
    "# y_test = test_data['Status']\n"
   ]
  },
  {
   "cell_type": "code",
   "execution_count": 61,
   "id": "6db1a5f6-4047-415e-a822-97cf6b2af8da",
   "metadata": {},
   "outputs": [
    {
     "name": "stdout",
     "output_type": "stream",
     "text": [
      "Logistic Regression with Imputer:\n",
      "              precision    recall  f1-score   support\n",
      "\n",
      "           0       0.85      0.47      0.61     33513\n",
      "           1       0.32      0.75      0.44     10980\n",
      "\n",
      "    accuracy                           0.54     44493\n",
      "   macro avg       0.58      0.61      0.53     44493\n",
      "weighted avg       0.72      0.54      0.57     44493\n",
      "\n",
      "Confusion Matrix:\n",
      " [[15787 17726]\n",
      " [ 2787  8193]]\n",
      "AUC: 0.5585173537583247\n"
     ]
    },
    {
     "name": "stderr",
     "output_type": "stream",
     "text": [
      "C:\\Users\\goura\\anaconda3\\Lib\\site-packages\\sklearn\\linear_model\\_logistic.py:469: ConvergenceWarning: lbfgs failed to converge (status=1):\n",
      "STOP: TOTAL NO. of ITERATIONS REACHED LIMIT.\n",
      "\n",
      "Increase the number of iterations (max_iter) or scale the data as shown in:\n",
      "    https://scikit-learn.org/stable/modules/preprocessing.html\n",
      "Please also refer to the documentation for alternative solver options:\n",
      "    https://scikit-learn.org/stable/modules/linear_model.html#logistic-regression\n",
      "  n_iter_i = _check_optimize_result(\n"
     ]
    }
   ],
   "source": [
    "from sklearn.pipeline import Pipeline\n",
    "from sklearn.impute import SimpleImputer\n",
    "from sklearn.linear_model import LogisticRegression\n",
    "from sklearn.metrics import classification_report, confusion_matrix, roc_auc_score\n",
    "pipeline = Pipeline(steps=[\n",
    "    ('imputer', SimpleImputer(strategy='mean')),\n",
    "    ('logistic', LogisticRegression(class_weight='balanced', random_state=42))\n",
    "])\n",
    "pipeline.fit(X_train, y_train)\n",
    "y_pred = pipeline.predict(X_test)\n",
    "y_pred_proba = pipeline.predict_proba(X_test)[:, 1]\n",
    "print(\"Logistic Regression with Imputer:\")\n",
    "print(classification_report(y_test, y_pred))\n",
    "print(\"Confusion Matrix:\\n\", confusion_matrix(y_test, y_pred))\n",
    "print(\"AUC:\", roc_auc_score(y_test, y_pred_proba))\n"
   ]
  }
 ],
 "metadata": {
  "kernelspec": {
   "display_name": "Python 3 (ipykernel)",
   "language": "python",
   "name": "python3"
  },
  "language_info": {
   "codemirror_mode": {
    "name": "ipython",
    "version": 3
   },
   "file_extension": ".py",
   "mimetype": "text/x-python",
   "name": "python",
   "nbconvert_exporter": "python",
   "pygments_lexer": "ipython3",
   "version": "3.12.4"
  }
 },
 "nbformat": 4,
 "nbformat_minor": 5
}
