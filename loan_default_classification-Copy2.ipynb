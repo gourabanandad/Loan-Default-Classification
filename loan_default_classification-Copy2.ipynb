{
 "cells": [
  {
   "cell_type": "code",
   "execution_count": 1,
   "id": "acd322c9-eea4-4886-9f57-5884f32658ac",
   "metadata": {},
   "outputs": [],
   "source": [
    "import pandas as pd\n",
    "import random as rd\n",
    "import numpy as np\n",
    "import matplotlib.pyplot as plt\n",
    "from datetime import datetime\n",
    "import seaborn as sns\n",
    "from sklearn.utils import shuffle\n",
    "%matplotlib inline"
   ]
  },
  {
   "cell_type": "markdown",
   "id": "3ae13b53",
   "metadata": {},
   "source": [
    "## DATA PREPROCESSING"
   ]
  },
  {
   "cell_type": "code",
   "execution_count": 2,
   "id": "0aa6a359-7e8b-4a3b-af78-c111ae4a287d",
   "metadata": {},
   "outputs": [
    {
     "name": "stderr",
     "output_type": "stream",
     "text": [
      "C:\\Users\\goura\\AppData\\Local\\Temp\\ipykernel_14572\\2255243340.py:1: DtypeWarning: Columns (0,19,49,59,118,129,130,131,134,135,136,139,145,146,147) have mixed types. Specify dtype option on import or set low_memory=False.\n",
      "  df = pd.read_csv(\"C:/Users/goura/Desktop/Loan_Default_Classification/accepted_2007_to_2018q4.csv/accepted_2007_to_2018Q4.csv\")\n"
     ]
    }
   ],
   "source": [
    "df = pd.read_csv(\"C:/Users/goura/Desktop/Loan_Default_Classification/accepted_2007_to_2018q4.csv/accepted_2007_to_2018Q4.csv\")"
   ]
  },
  {
   "cell_type": "code",
   "execution_count": 3,
   "id": "30886025-40f1-4a51-882a-14dc41cc9dcb",
   "metadata": {},
   "outputs": [
    {
     "name": "stdout",
     "output_type": "stream",
     "text": [
      "<class 'pandas.core.frame.DataFrame'>\n",
      "RangeIndex: 2260701 entries, 0 to 2260700\n",
      "Columns: 151 entries, id to settlement_term\n",
      "dtypes: float64(113), object(38)\n",
      "memory usage: 2.5+ GB\n"
     ]
    }
   ],
   "source": [
    "df.info()"
   ]
  },
  {
   "cell_type": "markdown",
   "id": "85a0b64d",
   "metadata": {},
   "source": [
    "REMOVING UNNECESSARY COLUMN"
   ]
  },
  {
   "cell_type": "code",
   "execution_count": 4,
   "id": "c725f8e6-faf2-4ab2-93ee-86478e796ff5",
   "metadata": {},
   "outputs": [],
   "source": [
    "columns_to_drop = ['id', 'member_id', 'url', 'desc', 'title', 'zip_code', 'pymnt_plan', \n",
    "                   'next_pymnt_d', 'initial_list_status', 'policy_code', 'mths_since_last_record', \n",
    "                   'mths_since_last_delinq', 'mths_since_last_major_derog', 'last_fico_range_low', \n",
    "                   'last_fico_range_high', 'hardship_flag', 'hardship_type', 'hardship_reason', \n",
    "                   'hardship_status', 'deferral_term', 'hardship_amount', 'hardship_start_date', \n",
    "                   'hardship_end_date', 'payment_plan_start_date', 'hardship_length', 'hardship_dpd', \n",
    "                   'hardship_loan_status', 'orig_projected_additional_accrued_interest', \n",
    "                   'hardship_payoff_balance_amount', 'hardship_last_payment_amount', 'disbursement_method', \n",
    "                   'debt_settlement_flag', 'debt_settlement_flag_date', 'settlement_status', 'settlement_date', \n",
    "                   'settlement_amount', 'settlement_percentage', 'settlement_term']\n",
    "df_cleaned = df.drop(columns=columns_to_drop)"
   ]
  },
  {
   "cell_type": "markdown",
   "id": "06af3e01",
   "metadata": {},
   "source": [
    "REMOVING COLUMN BECAUSE OF NULL VALUE"
   ]
  },
  {
   "cell_type": "code",
   "execution_count": 5,
   "id": "b268001c-4354-4b70-a9c5-a813ae2db702",
   "metadata": {},
   "outputs": [],
   "source": [
    "drop_null_column = ['funded_amnt_inv', 'total_bal_il', 'emp_title', 'issue_d', 'addr_state', 'out_prncp_inv', 'total_pymnt_inv', 'total_rec_late_fee', 'last_pymnt_d', 'last_pymnt_amnt', 'last_credit_pull_d', 'open_acc_6m', 'open_act_il', 'open_il_12m', 'open_il_24m', 'open_rv_12m', 'open_rv_24m', 'max_bal_bc', 'all_util', 'inq_fi', 'total_cu_tl', 'inq_last_12m', 'acc_open_past_24mths', 'avg_cur_bal', 'bc_open_to_buy', 'bc_util', 'chargeoff_within_12_mths', 'delinq_amnt', 'mo_sin_old_il_acct', 'mo_sin_old_rev_tl_op', 'mo_sin_rcnt_rev_tl_op', 'mo_sin_rcnt_tl', 'mort_acc', 'mths_since_recent_bc', 'mths_since_recent_inq', 'num_accts_ever_120_pd', 'num_actv_bc_tl', 'num_actv_rev_tl', 'num_bc_sats', 'num_bc_tl', 'num_il_tl', 'num_op_rev_tl', 'num_rev_accts', 'num_rev_tl_bal_gt_0', 'num_sats', 'num_tl_120dpd_2m', 'num_tl_30dpd', 'num_tl_90g_dpd_24m', 'percent_bc_gt_75', 'tot_hi_cred_lim', 'total_bal_ex_mort', 'total_bc_limit', 'total_il_high_credit_limit', 'sec_app_mths_since_last_major_derog',  'annual_inc_joint', 'dti_joint', 'verification_status_joint', 'sec_app_collections_12_mths_ex_med', 'sec_app_chargeoff_within_12_mths', 'sec_app_num_rev_accts', 'sec_app_open_act_il', 'sec_app_revol_util', 'sec_app_open_acc', 'sec_app_mort_acc', 'sec_app_inq_last_6mths', 'sec_app_earliest_cr_line', 'sec_app_fico_range_high', 'sec_app_fico_range_low', 'revol_bal_joint', 'mths_since_rcnt_il', 'il_util', 'mths_since_recent_bc_dlq', 'mths_since_recent_revol_delinq']\n",
    "cleaned = df_cleaned.drop(columns=drop_null_column)"
   ]
  },
  {
   "cell_type": "code",
   "execution_count": 6,
   "id": "c2614677-ef1d-4a32-b181-e3b8df7edde4",
   "metadata": {},
   "outputs": [],
   "source": [
    "low_missing_columns = [\n",
    "    'loan_amnt', 'funded_amnt', 'term', 'int_rate', 'installment', 'grade', 'sub_grade', \n",
    "    'home_ownership', 'annual_inc', 'verification_status', 'loan_status', \n",
    "    'fico_range_low', 'fico_range_high', 'revol_bal', 'out_prncp', 'total_pymnt', \n",
    "    'total_rec_prncp', 'total_rec_int', 'recoveries', 'collection_recovery_fee', 'application_type', 'delinq_2yrs', 'open_acc', 'inq_last_6mths', 'pub_rec', 'total_acc', 'collections_12_mths_ex_med', 'acc_now_delinq', 'tax_liens'\n",
    "]\n",
    "df_cleaned = cleaned.dropna(subset=low_missing_columns)"
   ]
  },
  {
   "cell_type": "code",
   "execution_count": 7,
   "id": "8bda7c7d-2218-4aa5-9152-eca538431cce",
   "metadata": {},
   "outputs": [
    {
     "name": "stderr",
     "output_type": "stream",
     "text": [
      "C:\\Users\\goura\\AppData\\Local\\Temp\\ipykernel_14572\\3127002921.py:1: SettingWithCopyWarning: \n",
      "A value is trying to be set on a copy of a slice from a DataFrame.\n",
      "Try using .loc[row_indexer,col_indexer] = value instead\n",
      "\n",
      "See the caveats in the documentation: https://pandas.pydata.org/pandas-docs/stable/user_guide/indexing.html#returning-a-view-versus-a-copy\n",
      "  df_cleaned['dti'] = df_cleaned['dti'].fillna(df_cleaned['dti'].median())\n",
      "C:\\Users\\goura\\AppData\\Local\\Temp\\ipykernel_14572\\3127002921.py:2: SettingWithCopyWarning: \n",
      "A value is trying to be set on a copy of a slice from a DataFrame.\n",
      "Try using .loc[row_indexer,col_indexer] = value instead\n",
      "\n",
      "See the caveats in the documentation: https://pandas.pydata.org/pandas-docs/stable/user_guide/indexing.html#returning-a-view-versus-a-copy\n",
      "  df_cleaned['revol_util'] = df_cleaned['revol_util'].fillna(df_cleaned['revol_util'].median())\n",
      "C:\\Users\\goura\\AppData\\Local\\Temp\\ipykernel_14572\\3127002921.py:3: SettingWithCopyWarning: \n",
      "A value is trying to be set on a copy of a slice from a DataFrame.\n",
      "Try using .loc[row_indexer,col_indexer] = value instead\n",
      "\n",
      "See the caveats in the documentation: https://pandas.pydata.org/pandas-docs/stable/user_guide/indexing.html#returning-a-view-versus-a-copy\n",
      "  df_cleaned['pub_rec_bankruptcies'] = df_cleaned['pub_rec_bankruptcies'].fillna(df_cleaned['pub_rec_bankruptcies'].median())\n",
      "C:\\Users\\goura\\AppData\\Local\\Temp\\ipykernel_14572\\3127002921.py:4: SettingWithCopyWarning: \n",
      "A value is trying to be set on a copy of a slice from a DataFrame.\n",
      "Try using .loc[row_indexer,col_indexer] = value instead\n",
      "\n",
      "See the caveats in the documentation: https://pandas.pydata.org/pandas-docs/stable/user_guide/indexing.html#returning-a-view-versus-a-copy\n",
      "  df_cleaned['tot_coll_amt'] = df_cleaned['tot_coll_amt'].fillna(df_cleaned['tot_coll_amt'].median())\n",
      "C:\\Users\\goura\\AppData\\Local\\Temp\\ipykernel_14572\\3127002921.py:5: SettingWithCopyWarning: \n",
      "A value is trying to be set on a copy of a slice from a DataFrame.\n",
      "Try using .loc[row_indexer,col_indexer] = value instead\n",
      "\n",
      "See the caveats in the documentation: https://pandas.pydata.org/pandas-docs/stable/user_guide/indexing.html#returning-a-view-versus-a-copy\n",
      "  df_cleaned['tot_cur_bal'] = df_cleaned['tot_cur_bal'].fillna(df_cleaned['tot_cur_bal'].median())\n",
      "C:\\Users\\goura\\AppData\\Local\\Temp\\ipykernel_14572\\3127002921.py:6: SettingWithCopyWarning: \n",
      "A value is trying to be set on a copy of a slice from a DataFrame.\n",
      "Try using .loc[row_indexer,col_indexer] = value instead\n",
      "\n",
      "See the caveats in the documentation: https://pandas.pydata.org/pandas-docs/stable/user_guide/indexing.html#returning-a-view-versus-a-copy\n",
      "  df_cleaned['total_rev_hi_lim'] = df_cleaned['total_rev_hi_lim'].fillna(df_cleaned['total_rev_hi_lim'].median())\n",
      "C:\\Users\\goura\\AppData\\Local\\Temp\\ipykernel_14572\\3127002921.py:7: SettingWithCopyWarning: \n",
      "A value is trying to be set on a copy of a slice from a DataFrame.\n",
      "Try using .loc[row_indexer,col_indexer] = value instead\n",
      "\n",
      "See the caveats in the documentation: https://pandas.pydata.org/pandas-docs/stable/user_guide/indexing.html#returning-a-view-versus-a-copy\n",
      "  df_cleaned['num_tl_op_past_12m'] = df_cleaned['num_tl_op_past_12m'].fillna(df_cleaned['num_tl_op_past_12m'].median())\n",
      "C:\\Users\\goura\\AppData\\Local\\Temp\\ipykernel_14572\\3127002921.py:8: SettingWithCopyWarning: \n",
      "A value is trying to be set on a copy of a slice from a DataFrame.\n",
      "Try using .loc[row_indexer,col_indexer] = value instead\n",
      "\n",
      "See the caveats in the documentation: https://pandas.pydata.org/pandas-docs/stable/user_guide/indexing.html#returning-a-view-versus-a-copy\n",
      "  df_cleaned['pct_tl_nvr_dlq'] = df_cleaned['pct_tl_nvr_dlq'].fillna(df_cleaned['pct_tl_nvr_dlq'].median())\n",
      "C:\\Users\\goura\\AppData\\Local\\Temp\\ipykernel_14572\\3127002921.py:9: SettingWithCopyWarning: \n",
      "A value is trying to be set on a copy of a slice from a DataFrame.\n",
      "Try using .loc[row_indexer,col_indexer] = value instead\n",
      "\n",
      "See the caveats in the documentation: https://pandas.pydata.org/pandas-docs/stable/user_guide/indexing.html#returning-a-view-versus-a-copy\n",
      "  df_cleaned['emp_length'] = df_cleaned['emp_length'].fillna(df_cleaned['emp_length'].mode())\n",
      "C:\\Users\\goura\\AppData\\Local\\Temp\\ipykernel_14572\\3127002921.py:10: SettingWithCopyWarning: \n",
      "A value is trying to be set on a copy of a slice from a DataFrame.\n",
      "Try using .loc[row_indexer,col_indexer] = value instead\n",
      "\n",
      "See the caveats in the documentation: https://pandas.pydata.org/pandas-docs/stable/user_guide/indexing.html#returning-a-view-versus-a-copy\n",
      "  df_cleaned['purpose'] = df_cleaned['purpose'].fillna(df_cleaned['purpose'].mode())\n"
     ]
    }
   ],
   "source": [
    "df_cleaned['dti'] = df_cleaned['dti'].fillna(df_cleaned['dti'].median())\n",
    "df_cleaned['revol_util'] = df_cleaned['revol_util'].fillna(df_cleaned['revol_util'].median())\n",
    "df_cleaned['pub_rec_bankruptcies'] = df_cleaned['pub_rec_bankruptcies'].fillna(df_cleaned['pub_rec_bankruptcies'].median())\n",
    "df_cleaned['tot_coll_amt'] = df_cleaned['tot_coll_amt'].fillna(df_cleaned['tot_coll_amt'].median())\n",
    "df_cleaned['tot_cur_bal'] = df_cleaned['tot_cur_bal'].fillna(df_cleaned['tot_cur_bal'].median())\n",
    "df_cleaned['total_rev_hi_lim'] = df_cleaned['total_rev_hi_lim'].fillna(df_cleaned['total_rev_hi_lim'].median())\n",
    "df_cleaned['num_tl_op_past_12m'] = df_cleaned['num_tl_op_past_12m'].fillna(df_cleaned['num_tl_op_past_12m'].median())\n",
    "df_cleaned['pct_tl_nvr_dlq'] = df_cleaned['pct_tl_nvr_dlq'].fillna(df_cleaned['pct_tl_nvr_dlq'].median())\n",
    "df_cleaned['emp_length'] = df_cleaned['emp_length'].fillna(df_cleaned['emp_length'].mode())\n",
    "df_cleaned['purpose'] = df_cleaned['purpose'].fillna(df_cleaned['purpose'].mode())"
   ]
  },
  {
   "cell_type": "code",
   "execution_count": 8,
   "id": "8cc10188-d3d5-4f91-8ae7-6c744ef8ed9c",
   "metadata": {},
   "outputs": [
    {
     "name": "stderr",
     "output_type": "stream",
     "text": [
      "C:\\Users\\goura\\AppData\\Local\\Temp\\ipykernel_14572\\4248550444.py:1: FutureWarning: A value is trying to be set on a copy of a DataFrame or Series through chained assignment using an inplace method.\n",
      "The behavior will change in pandas 3.0. This inplace method will never work because the intermediate object on which we are setting values always behaves as a copy.\n",
      "\n",
      "For example, when doing 'df[col].method(value, inplace=True)', try using 'df.method({col: value}, inplace=True)' or df[col] = df[col].method(value) instead, to perform the operation inplace on the original object.\n",
      "\n",
      "\n",
      "  df_cleaned['emp_length'].fillna(df_cleaned['emp_length'].mode()[0], inplace=True)\n",
      "C:\\Users\\goura\\AppData\\Local\\Temp\\ipykernel_14572\\4248550444.py:1: SettingWithCopyWarning: \n",
      "A value is trying to be set on a copy of a slice from a DataFrame\n",
      "\n",
      "See the caveats in the documentation: https://pandas.pydata.org/pandas-docs/stable/user_guide/indexing.html#returning-a-view-versus-a-copy\n",
      "  df_cleaned['emp_length'].fillna(df_cleaned['emp_length'].mode()[0], inplace=True)\n"
     ]
    }
   ],
   "source": [
    "df_cleaned['emp_length'].fillna(df_cleaned['emp_length'].mode()[0], inplace=True)"
   ]
  },
  {
   "cell_type": "code",
   "execution_count": 9,
   "id": "30d7038c-eb59-4e01-860f-e28bbf3db7e5",
   "metadata": {},
   "outputs": [
    {
     "name": "stderr",
     "output_type": "stream",
     "text": [
      "C:\\Users\\goura\\AppData\\Local\\Temp\\ipykernel_14572\\1118833201.py:14: SettingWithCopyWarning: \n",
      "A value is trying to be set on a copy of a slice from a DataFrame.\n",
      "Try using .loc[row_indexer,col_indexer] = value instead\n",
      "\n",
      "See the caveats in the documentation: https://pandas.pydata.org/pandas-docs/stable/user_guide/indexing.html#returning-a-view-versus-a-copy\n",
      "  df_cleaned['emp_length'] = df_cleaned['emp_length'].map(emp_length_mapping)\n",
      "C:\\Users\\goura\\AppData\\Local\\Temp\\ipykernel_14572\\1118833201.py:15: FutureWarning: A value is trying to be set on a copy of a DataFrame or Series through chained assignment using an inplace method.\n",
      "The behavior will change in pandas 3.0. This inplace method will never work because the intermediate object on which we are setting values always behaves as a copy.\n",
      "\n",
      "For example, when doing 'df[col].method(value, inplace=True)', try using 'df.method({col: value}, inplace=True)' or df[col] = df[col].method(value) instead, to perform the operation inplace on the original object.\n",
      "\n",
      "\n",
      "  df_cleaned['emp_length'].fillna(df_cleaned['emp_length'].median(), inplace=True)\n",
      "C:\\Users\\goura\\AppData\\Local\\Temp\\ipykernel_14572\\1118833201.py:15: SettingWithCopyWarning: \n",
      "A value is trying to be set on a copy of a slice from a DataFrame\n",
      "\n",
      "See the caveats in the documentation: https://pandas.pydata.org/pandas-docs/stable/user_guide/indexing.html#returning-a-view-versus-a-copy\n",
      "  df_cleaned['emp_length'].fillna(df_cleaned['emp_length'].median(), inplace=True)\n"
     ]
    }
   ],
   "source": [
    "emp_length_mapping = {\n",
    "    '< 1 year': 0.5,\n",
    "    '1 year': 1,\n",
    "    '2 years': 2,\n",
    "    '3 years': 3,\n",
    "    '4 years': 4,\n",
    "    '5 years': 5,\n",
    "    '6 years': 6,\n",
    "    '7 years': 7,\n",
    "    '8 years': 8,\n",
    "    '9 years': 9,\n",
    "    '10+ years': 10\n",
    "}\n",
    "df_cleaned['emp_length'] = df_cleaned['emp_length'].map(emp_length_mapping)\n",
    "df_cleaned['emp_length'].fillna(df_cleaned['emp_length'].median(), inplace=True)"
   ]
  },
  {
   "cell_type": "code",
   "execution_count": 10,
   "id": "8a17435f-ec18-47c4-9ebd-5f92762baae0",
   "metadata": {},
   "outputs": [
    {
     "name": "stderr",
     "output_type": "stream",
     "text": [
      "C:\\Users\\goura\\AppData\\Local\\Temp\\ipykernel_14572\\3905933245.py:9: SettingWithCopyWarning: \n",
      "A value is trying to be set on a copy of a slice from a DataFrame.\n",
      "Try using .loc[row_indexer,col_indexer] = value instead\n",
      "\n",
      "See the caveats in the documentation: https://pandas.pydata.org/pandas-docs/stable/user_guide/indexing.html#returning-a-view-versus-a-copy\n",
      "  df_cleaned['home_ownership'] = df_cleaned['home_ownership'].map(home_ownership_mapping)\n"
     ]
    }
   ],
   "source": [
    "home_ownership_mapping = {\n",
    "    'MORTGAGE':0,\n",
    "    'RENT':1,\n",
    "    'OWN':2,\n",
    "    'OTHER':3,\n",
    "    'ANY':4,\n",
    "    'NONE':5\n",
    "}\n",
    "df_cleaned['home_ownership'] = df_cleaned['home_ownership'].map(home_ownership_mapping)\n",
    "# df_cleaned['home_ownership'] = df_cleaned['home_ownership'].fillna(df_cleaned['home_ownership'].mode())"
   ]
  },
  {
   "cell_type": "code",
   "execution_count": 11,
   "id": "1554edb0-9141-4581-9228-4904a74ca059",
   "metadata": {},
   "outputs": [
    {
     "data": {
      "text/plain": [
       "loan_amnt                     0\n",
       "funded_amnt                   0\n",
       "term                          0\n",
       "int_rate                      0\n",
       "installment                   0\n",
       "grade                         0\n",
       "sub_grade                     0\n",
       "emp_length                    0\n",
       "home_ownership                0\n",
       "annual_inc                    0\n",
       "verification_status           0\n",
       "loan_status                   0\n",
       "purpose                       0\n",
       "dti                           0\n",
       "delinq_2yrs                   0\n",
       "earliest_cr_line              0\n",
       "fico_range_low                0\n",
       "fico_range_high               0\n",
       "inq_last_6mths                0\n",
       "open_acc                      0\n",
       "pub_rec                       0\n",
       "revol_bal                     0\n",
       "revol_util                    0\n",
       "total_acc                     0\n",
       "out_prncp                     0\n",
       "total_pymnt                   0\n",
       "total_rec_prncp               0\n",
       "total_rec_int                 0\n",
       "recoveries                    0\n",
       "collection_recovery_fee       0\n",
       "collections_12_mths_ex_med    0\n",
       "application_type              0\n",
       "acc_now_delinq                0\n",
       "tot_coll_amt                  0\n",
       "tot_cur_bal                   0\n",
       "total_rev_hi_lim              0\n",
       "num_tl_op_past_12m            0\n",
       "pct_tl_nvr_dlq                0\n",
       "pub_rec_bankruptcies          0\n",
       "tax_liens                     0\n",
       "dtype: int64"
      ]
     },
     "execution_count": 11,
     "metadata": {},
     "output_type": "execute_result"
    }
   ],
   "source": [
    "df_cleaned.isnull().sum()"
   ]
  },
  {
   "cell_type": "code",
   "execution_count": 12,
   "id": "0de819b5-4664-4e76-a78d-d97466ad9947",
   "metadata": {},
   "outputs": [
    {
     "data": {
      "text/plain": [
       "0          0\n",
       "1          0\n",
       "2          0\n",
       "3          0\n",
       "4          0\n",
       "          ..\n",
       "2260694    0\n",
       "2260695    0\n",
       "2260696    0\n",
       "2260697    1\n",
       "2260698    0\n",
       "Name: home_ownership, Length: 2260522, dtype: int64"
      ]
     },
     "execution_count": 12,
     "metadata": {},
     "output_type": "execute_result"
    }
   ],
   "source": [
    "df_cleaned['home_ownership']"
   ]
  },
  {
   "cell_type": "code",
   "execution_count": 13,
   "id": "11c43896-fdd0-4248-8e51-3752f5fbf319",
   "metadata": {},
   "outputs": [
    {
     "name": "stderr",
     "output_type": "stream",
     "text": [
      "C:\\Users\\goura\\AppData\\Local\\Temp\\ipykernel_14572\\49829525.py:6: SettingWithCopyWarning: \n",
      "A value is trying to be set on a copy of a slice from a DataFrame.\n",
      "Try using .loc[row_indexer,col_indexer] = value instead\n",
      "\n",
      "See the caveats in the documentation: https://pandas.pydata.org/pandas-docs/stable/user_guide/indexing.html#returning-a-view-versus-a-copy\n",
      "  df_cleaned['verification_status'] = df_cleaned['verification_status'].map(verification_status_mapping)\n"
     ]
    }
   ],
   "source": [
    "verification_status_mapping = {\n",
    "    'Not Verified':0,\n",
    "    'Source Verified':1,\n",
    "    'Verified':2\n",
    "}\n",
    "df_cleaned['verification_status'] = df_cleaned['verification_status'].map(verification_status_mapping)"
   ]
  },
  {
   "cell_type": "code",
   "execution_count": 14,
   "id": "66e8dc4a-5e89-4121-aea7-879e5a7a6b5d",
   "metadata": {},
   "outputs": [
    {
     "name": "stderr",
     "output_type": "stream",
     "text": [
      "C:\\Users\\goura\\AppData\\Local\\Temp\\ipykernel_14572\\867387072.py:12: SettingWithCopyWarning: \n",
      "A value is trying to be set on a copy of a slice from a DataFrame.\n",
      "Try using .loc[row_indexer,col_indexer] = value instead\n",
      "\n",
      "See the caveats in the documentation: https://pandas.pydata.org/pandas-docs/stable/user_guide/indexing.html#returning-a-view-versus-a-copy\n",
      "  df_cleaned['loan_status'] = df_cleaned['loan_status'].map(loan_status_mapping)\n"
     ]
    }
   ],
   "source": [
    "loan_status_mapping = {\n",
    "    'Fully Paid': 0,\n",
    "    'Current': 0,\n",
    "    'Charged Off': 1,\n",
    "    'In Grace Period': 1,\n",
    "    'Late (31-120 days)': 1,\n",
    "    'Late (16-30 days)': 1,\n",
    "    'Default': 1,\n",
    "    'Does not meet the credit policy. Status:Fully Paid': 0,\n",
    "    'Does not meet the credit policy. Status:Charged Off': 1\n",
    "}\n",
    "df_cleaned['loan_status'] = df_cleaned['loan_status'].map(loan_status_mapping)"
   ]
  },
  {
   "cell_type": "code",
   "execution_count": 15,
   "id": "927029b8-3252-4853-a59c-01d83ee8e2bb",
   "metadata": {},
   "outputs": [
    {
     "name": "stderr",
     "output_type": "stream",
     "text": [
      "C:\\Users\\goura\\AppData\\Local\\Temp\\ipykernel_14572\\2094341301.py:5: SettingWithCopyWarning: \n",
      "A value is trying to be set on a copy of a slice from a DataFrame.\n",
      "Try using .loc[row_indexer,col_indexer] = value instead\n",
      "\n",
      "See the caveats in the documentation: https://pandas.pydata.org/pandas-docs/stable/user_guide/indexing.html#returning-a-view-versus-a-copy\n",
      "  df_cleaned['application_type'] = df_cleaned['application_type'].map(application_type_mapping)\n"
     ]
    }
   ],
   "source": [
    "application_type_mapping = {\n",
    "    'Individual':0,\n",
    "    'Joint App':1\n",
    "}\n",
    "df_cleaned['application_type'] = df_cleaned['application_type'].map(application_type_mapping)"
   ]
  },
  {
   "cell_type": "code",
   "execution_count": 16,
   "id": "1bdb95ce-4951-4141-ab57-b57f7b2193ef",
   "metadata": {},
   "outputs": [
    {
     "name": "stderr",
     "output_type": "stream",
     "text": [
      "C:\\Users\\goura\\AppData\\Local\\Temp\\ipykernel_14572\\1804118674.py:1: SettingWithCopyWarning: \n",
      "A value is trying to be set on a copy of a slice from a DataFrame.\n",
      "Try using .loc[row_indexer,col_indexer] = value instead\n",
      "\n",
      "See the caveats in the documentation: https://pandas.pydata.org/pandas-docs/stable/user_guide/indexing.html#returning-a-view-versus-a-copy\n",
      "  df_cleaned['term'] = df_cleaned['term'].str.strip()\n",
      "C:\\Users\\goura\\AppData\\Local\\Temp\\ipykernel_14572\\1804118674.py:6: SettingWithCopyWarning: \n",
      "A value is trying to be set on a copy of a slice from a DataFrame.\n",
      "Try using .loc[row_indexer,col_indexer] = value instead\n",
      "\n",
      "See the caveats in the documentation: https://pandas.pydata.org/pandas-docs/stable/user_guide/indexing.html#returning-a-view-versus-a-copy\n",
      "  df_cleaned['term'] = df_cleaned['term'].map(term_mapping)\n"
     ]
    }
   ],
   "source": [
    "df_cleaned['term'] = df_cleaned['term'].str.strip()\n",
    "term_mapping = {\n",
    "    '60 months':0,\n",
    "    '36 months':1\n",
    "}\n",
    "df_cleaned['term'] = df_cleaned['term'].map(term_mapping)"
   ]
  },
  {
   "cell_type": "code",
   "execution_count": 17,
   "id": "7ea22e5a-3a52-4d62-b916-050636c6c39b",
   "metadata": {},
   "outputs": [
    {
     "name": "stderr",
     "output_type": "stream",
     "text": [
      "C:\\Users\\goura\\AppData\\Local\\Temp\\ipykernel_14572\\313361140.py:17: SettingWithCopyWarning: \n",
      "A value is trying to be set on a copy of a slice from a DataFrame.\n",
      "Try using .loc[row_indexer,col_indexer] = value instead\n",
      "\n",
      "See the caveats in the documentation: https://pandas.pydata.org/pandas-docs/stable/user_guide/indexing.html#returning-a-view-versus-a-copy\n",
      "  df_cleaned['purpose'] = df_cleaned['purpose'].map(purpose_mapping)\n"
     ]
    }
   ],
   "source": [
    "purpose_mapping = {\n",
    "    'debt_consolidation': 0,\n",
    "    'small_business': 1,\n",
    "    'home_improvement': 2,\n",
    "    'major_purchase': 3,\n",
    "    'credit_card': 4,\n",
    "    'other': 5,\n",
    "    'house': 6,\n",
    "    'vacation': 7,\n",
    "    'car': 8,\n",
    "    'medical': 9,\n",
    "    'moving': 10,\n",
    "    'renewable_energy': 11,\n",
    "    'wedding': 12,\n",
    "    'educational': 13\n",
    "}\n",
    "df_cleaned['purpose'] = df_cleaned['purpose'].map(purpose_mapping)"
   ]
  },
  {
   "cell_type": "code",
   "execution_count": 18,
   "id": "8c8b130e-67cd-486b-9c41-8a817e035c15",
   "metadata": {},
   "outputs": [
    {
     "name": "stderr",
     "output_type": "stream",
     "text": [
      "C:\\Users\\goura\\AppData\\Local\\Temp\\ipykernel_14572\\1855757074.py:11: SettingWithCopyWarning: \n",
      "A value is trying to be set on a copy of a slice from a DataFrame.\n",
      "Try using .loc[row_indexer,col_indexer] = value instead\n",
      "\n",
      "See the caveats in the documentation: https://pandas.pydata.org/pandas-docs/stable/user_guide/indexing.html#returning-a-view-versus-a-copy\n",
      "  df_cleaned['grade'] = df_cleaned['grade'].map(grade_mapping)\n"
     ]
    }
   ],
   "source": [
    "# A>B>C>D>E>F\n",
    "grade_mapping = {\n",
    "    'A': 0,\n",
    "    'B': 1,\n",
    "    'C': 2,\n",
    "    'D': 3,\n",
    "    'E': 4,\n",
    "    'F': 5,\n",
    "    'G': 6\n",
    "}\n",
    "df_cleaned['grade'] = df_cleaned['grade'].map(grade_mapping)"
   ]
  },
  {
   "cell_type": "code",
   "execution_count": 19,
   "id": "88a25d35-8b9e-4463-af87-78e763e188e2",
   "metadata": {},
   "outputs": [
    {
     "name": "stderr",
     "output_type": "stream",
     "text": [
      "C:\\Users\\goura\\AppData\\Local\\Temp\\ipykernel_14572\\4121050966.py:9: SettingWithCopyWarning: \n",
      "A value is trying to be set on a copy of a slice from a DataFrame.\n",
      "Try using .loc[row_indexer,col_indexer] = value instead\n",
      "\n",
      "See the caveats in the documentation: https://pandas.pydata.org/pandas-docs/stable/user_guide/indexing.html#returning-a-view-versus-a-copy\n",
      "  df_cleaned['sub_grade'] = df_cleaned['sub_grade'].map(sub_grade_mapping)\n"
     ]
    }
   ],
   "source": [
    "sub_grade_order = ['A1', 'A2', 'A3', 'A4', 'A5', \n",
    "                   'B1', 'B2', 'B3', 'B4', 'B5', \n",
    "                   'C1', 'C2', 'C3', 'C4', 'C5', \n",
    "                   'D1', 'D2', 'D3', 'D4', 'D5', \n",
    "                   'E1', 'E2', 'E3', 'E4', 'E5', \n",
    "                   'F1', 'F2', 'F3', 'F4', 'F5', \n",
    "                   'G1', 'G2', 'G3', 'G4', 'G5']\n",
    "sub_grade_mapping = {sub_grade: i for i, sub_grade in enumerate(sub_grade_order)}\n",
    "df_cleaned['sub_grade'] = df_cleaned['sub_grade'].map(sub_grade_mapping)"
   ]
  },
  {
   "cell_type": "code",
   "execution_count": 20,
   "id": "244436b2-9d9a-4df8-bc7f-295d68f3e5d4",
   "metadata": {},
   "outputs": [
    {
     "name": "stderr",
     "output_type": "stream",
     "text": [
      "C:\\Users\\goura\\AppData\\Local\\Temp\\ipykernel_14572\\4136854587.py:1: UserWarning: Could not infer format, so each element will be parsed individually, falling back to `dateutil`. To ensure parsing is consistent and as-expected, please specify a format.\n",
      "  df_cleaned['earliest_cr_line'] = pd.to_datetime(df_cleaned['earliest_cr_line'], errors='coerce')\n",
      "C:\\Users\\goura\\AppData\\Local\\Temp\\ipykernel_14572\\4136854587.py:1: SettingWithCopyWarning: \n",
      "A value is trying to be set on a copy of a slice from a DataFrame.\n",
      "Try using .loc[row_indexer,col_indexer] = value instead\n",
      "\n",
      "See the caveats in the documentation: https://pandas.pydata.org/pandas-docs/stable/user_guide/indexing.html#returning-a-view-versus-a-copy\n",
      "  df_cleaned['earliest_cr_line'] = pd.to_datetime(df_cleaned['earliest_cr_line'], errors='coerce')\n",
      "C:\\Users\\goura\\AppData\\Local\\Temp\\ipykernel_14572\\4136854587.py:2: SettingWithCopyWarning: \n",
      "A value is trying to be set on a copy of a slice from a DataFrame.\n",
      "Try using .loc[row_indexer,col_indexer] = value instead\n",
      "\n",
      "See the caveats in the documentation: https://pandas.pydata.org/pandas-docs/stable/user_guide/indexing.html#returning-a-view-versus-a-copy\n",
      "  df_cleaned['credit_history_length'] = datetime.now().year - df_cleaned['earliest_cr_line'].dt.year\n"
     ]
    }
   ],
   "source": [
    "df_cleaned['earliest_cr_line'] = pd.to_datetime(df_cleaned['earliest_cr_line'], errors='coerce')\n",
    "df_cleaned['credit_history_length'] = datetime.now().year - df_cleaned['earliest_cr_line'].dt.year"
   ]
  },
  {
   "cell_type": "code",
   "execution_count": 21,
   "id": "34bb72b0-efb4-4c7f-9e51-ea3a33f7f622",
   "metadata": {},
   "outputs": [
    {
     "name": "stderr",
     "output_type": "stream",
     "text": [
      "C:\\Users\\goura\\AppData\\Local\\Temp\\ipykernel_14572\\2400239070.py:3: SettingWithCopyWarning: \n",
      "A value is trying to be set on a copy of a slice from a DataFrame.\n",
      "Try using .loc[row_indexer,col_indexer] = value instead\n",
      "\n",
      "See the caveats in the documentation: https://pandas.pydata.org/pandas-docs/stable/user_guide/indexing.html#returning-a-view-versus-a-copy\n",
      "  df_cleaned['credit_history_length'] = (pd.to_datetime('today') - pd.to_datetime(df_cleaned['earliest_cr_line'])).dt.days / 365\n"
     ]
    }
   ],
   "source": [
    "if 'earliest_cr_line' in df_cleaned.columns:\n",
    "    # Convert 'earliest_cr_line' to the number of years since the earliest credit line\n",
    "    df_cleaned['credit_history_length'] = (pd.to_datetime('today') - pd.to_datetime(df_cleaned['earliest_cr_line'])).dt.days / 365\n",
    "    # Now drop the original 'earliest_cr_line' column since we have derived a numeric feature from it\n",
    "    df_cleaned = df_cleaned.drop(columns=['earliest_cr_line'])"
   ]
  },
  {
   "cell_type": "code",
   "execution_count": 22,
   "id": "4076d71f-0757-4a0c-835e-58ecfcfa22c5",
   "metadata": {},
   "outputs": [],
   "source": [
    "data=df_cleaned.sample(frac=.5,random_state=101)"
   ]
  },
  {
   "cell_type": "markdown",
   "id": "0d46b62d",
   "metadata": {},
   "source": [
    "# DATA SPLITTING"
   ]
  },
  {
   "cell_type": "code",
   "execution_count": 23,
   "id": "78210688-d524-48d4-8424-ea3f4526e8d7",
   "metadata": {},
   "outputs": [
    {
     "name": "stdout",
     "output_type": "stream",
     "text": [
      "X_train shape: (1582365, 39)\n",
      "X_test shape: (678157, 39)\n",
      "y_train shape: (1582365,)\n",
      "y_test shape: (678157,)\n"
     ]
    }
   ],
   "source": [
    "# Import necessary libraries\n",
    "from sklearn.model_selection import train_test_split\n",
    "\n",
    "# Assuming 'df' is your DataFrame\n",
    "# Separate the feature set (X) and the target/label (y)\n",
    "X = df_cleaned.drop(columns=['loan_status'])  # Drop 'loan_status' from the feature set\n",
    "y = df_cleaned['loan_status']  # 'loan_status' as the target\n",
    "\n",
    "# Perform train-test split (80% train, 20% test by default)\n",
    "X_train, X_test, y_train, y_test = train_test_split(X, y, test_size=0.3, random_state=42)\n",
    "print(\"X_train shape:\", X_train.shape)\n",
    "print(\"X_test shape:\", X_test.shape)\n",
    "print(\"y_train shape:\", y_train.shape)\n",
    "print(\"y_test shape:\", y_test.shape)\n"
   ]
  },
  {
   "cell_type": "code",
   "execution_count": 24,
   "id": "4c0ba1e7-edf1-4d08-8a34-faf472d6e725",
   "metadata": {},
   "outputs": [],
   "source": [
    "from sklearn.preprocessing import MinMaxScaler\n",
    "scaler = MinMaxScaler()\n",
    "X_train_scaled = scaler.fit_transform(X_train)\n",
    "X_test_scaled = scaler.transform(X_test)"
   ]
  },
  {
   "cell_type": "markdown",
   "id": "b69aba7b",
   "metadata": {},
   "source": [
    "# LOGISTIC REGRESSION"
   ]
  },
  {
   "cell_type": "code",
   "execution_count": 25,
   "id": "ab6db5eb-5139-48e5-948f-c717c497d10d",
   "metadata": {},
   "outputs": [],
   "source": [
    "# from sklearn.linear_model import LogisticRegression\n",
    "\n",
    "# lr = LogisticRegression(solver='saga',penalty='l1', C=0.5,  max_iter=200, class_weight='balanced', random_state=42)\n",
    "# lr.fit(X_train_scaled, y_train)\n",
    "# y_pred = lr.predict(X_test_scaled)\n",
    "# y_pred_proba = lr.predict_proba(X_test_scaled)[:, 1]\n",
    "# print(\"Logistic Regression with Imputer:\")\n",
    "# print(classification_report(y_test, y_pred))\n",
    "# print(\"Confusion Matrix:\\n\", confusion_matrix(y_test, y_pred))\n",
    "# print(\"AUC:\", roc_auc_score(y_test, y_pred_proba))\n"
   ]
  },
  {
   "cell_type": "code",
   "execution_count": 27,
   "id": "d0c00c6c-3157-4e03-bffc-4d5d52c8070a",
   "metadata": {},
   "outputs": [
    {
     "name": "stdout",
     "output_type": "stream",
     "text": [
      "Logistic Regression with Imputer:\n",
      "              precision    recall  f1-score   support\n",
      "\n",
      "           0       0.98      0.99      0.99    587279\n",
      "           1       0.95      0.88      0.91     90878\n",
      "\n",
      "    accuracy                           0.98    678157\n",
      "   macro avg       0.97      0.94      0.95    678157\n",
      "weighted avg       0.98      0.98      0.98    678157\n",
      "\n",
      "Confusion Matrix:\n",
      " [[583081   4198]\n",
      " [ 10846  80032]]\n",
      "AUC: 0.9755698063302447\n"
     ]
    }
   ],
   "source": [
    "from sklearn.linear_model import LogisticRegression\n",
    "from sklearn.metrics import classification_report, confusion_matrix, roc_auc_score\n",
    "\n",
    "lr = LogisticRegression(max_iter=200, class_weight='balanced', random_state=42)\n",
    "lr.fit(X_train_scaled, y_train)\n",
    "y_pred = lr.predict(X_test_scaled)\n",
    "y_pred_proba = lr.predict_proba(X_test_scaled)[:, 1]\n",
    "print(\"Logistic Regression with Imputer:\")\n",
    "print(classification_report(y_test, y_pred))\n",
    "print(\"Confusion Matrix:\\n\", confusion_matrix(y_test, y_pred))\n",
    "print(\"AUC:\", roc_auc_score(y_test, y_pred_proba))\n"
   ]
  },
  {
   "cell_type": "code",
   "execution_count": 29,
   "id": "0b8709e7-f3bd-4473-92a9-612db5d3ee76",
   "metadata": {},
   "outputs": [
    {
     "name": "stderr",
     "output_type": "stream",
     "text": [
      "C:\\Users\\goura\\anaconda3\\Lib\\site-packages\\sklearn\\base.py:486: UserWarning: X has feature names, but LogisticRegression was fitted without feature names\n",
      "  warnings.warn(\n",
      "C:\\Users\\goura\\anaconda3\\Lib\\site-packages\\sklearn\\base.py:486: UserWarning: X has feature names, but LogisticRegression was fitted without feature names\n",
      "  warnings.warn(\n"
     ]
    },
    {
     "name": "stdout",
     "output_type": "stream",
     "text": [
      "Accuracy: 97.20\n",
      "Precision: 1.00\n",
      "Recall: 0.79\n",
      "F1-Score: 0.88\n",
      "AUC-ROC: 0.90\n",
      "Confusion Matrix:\n",
      "[[587259     20]\n",
      " [ 18988  71890]]\n",
      "\n",
      "Classification Report:\n",
      "              precision    recall  f1-score   support\n",
      "\n",
      "           0       0.97      1.00      0.98    587279\n",
      "           1       1.00      0.79      0.88     90878\n",
      "\n",
      "    accuracy                           0.97    678157\n",
      "   macro avg       0.98      0.90      0.93    678157\n",
      "weighted avg       0.97      0.97      0.97    678157\n",
      "\n"
     ]
    },
    {
     "data": {
      "image/png": "[encoded data removed]",
      "text/plain": [
       "<Figure size 640x480 with 1 Axes>"
      ]
     },
     "metadata": {},
     "output_type": "display_data"
    }
   ],
   "source": [
    "from sklearn.metrics import accuracy_score, precision_score, recall_score, f1_score, roc_auc_score, confusion_matrix, classification_report\n",
    "import matplotlib.pyplot as plt\n",
    "from sklearn.metrics import RocCurveDisplay\n",
    "\n",
    "# Predict class labels and probabilities\n",
    "y_pred = lr.predict(X_test)\n",
    "y_pred_proba = lr.predict_proba(X_test)[:, 1]  # Probability of the positive class\n",
    "\n",
    "# 1. Accuracy\n",
    "accuracy = accuracy_score(y_test, y_pred)\n",
    "print(f\"Accuracy: {accuracy*100:.2f}\")\n",
    "\n",
    "# 2. Precision\n",
    "precision = precision_score(y_test, y_pred)\n",
    "print(f\"Precision: {precision:.2f}\")\n",
    "\n",
    "# 3. Recall\n",
    "recall = recall_score(y_test, y_pred)\n",
    "print(f\"Recall: {recall:.2f}\")\n",
    "\n",
    "# 4. F1-Score\n",
    "f1 = f1_score(y_test, y_pred)\n",
    "print(f\"F1-Score: {f1:.2f}\")\n",
    "\n",
    "# 5. AUC-ROC\n",
    "auc_roc = roc_auc_score(y_test, y_pred_proba)\n",
    "print(f\"AUC-ROC: {auc_roc:.2f}\")\n",
    "\n",
    "# 6. Confusion Matrix\n",
    "conf_matrix = confusion_matrix(y_test, y_pred)\n",
    "print(\"Confusion Matrix:\")\n",
    "print(conf_matrix)\n",
    "\n",
    "# Detailed classification report\n",
    "print(\"\\nClassification Report:\")\n",
    "print(classification_report(y_test, y_pred))\n",
    "\n",
    "# Plotting the ROC curve\n",
    "RocCurveDisplay.from_estimator(lr, X_test_scaled, y_test)\n",
    "plt.title(\"ROC Curve\")\n",
    "plt.show()\n"
   ]
  },
  {
   "cell_type": "code",
   "execution_count": null,
   "id": "db7417c6-7acc-4ad8-9322-e0825502eefc",
   "metadata": {},
   "outputs": [],
   "source": [
    "# from sklearn.pipeline import Pipeline\n",
    "# from sklearn.impute import SimpleImputer\n",
    "# from sklearn.linear_model import LogisticRegression\n",
    "# from sklearn.metrics import classification_report, confusion_matrix, roc_auc_score\n",
    "# pipeline = Pipeline(steps=[\n",
    "#     ('imputer', SimpleImputer(strategy='mean')),\n",
    "#     ('logistic', LogisticRegression(class_weight='balanced', random_state=42))\n",
    "# ])\n",
    "# pipeline.fit(X_train, y_train)\n",
    "# y_pred = pipeline.predict(X_test)\n",
    "# y_pred_proba = pipeline.predict_proba(X_test)[:, 1]\n",
    "# print(\"Logistic Regression with Imputer:\")\n",
    "# print(classification_report(y_test, y_pred))\n",
    "# print(\"Confusion Matrix:\\n\", confusion_matrix(y_test, y_pred))\n",
    "# print(\"AUC:\", roc_auc_score(y_test, y_pred_proba))\n"
   ]
  },
  {
   "cell_type": "markdown",
   "id": "7e3ca699",
   "metadata": {},
   "source": [
    "# DECISSION TREE"
   ]
  },
  {
   "cell_type": "code",
   "execution_count": 30,
   "id": "5afaa28c-ced9-47e0-b40d-320c3d62f425",
   "metadata": {},
   "outputs": [
    {
     "name": "stdout",
     "output_type": "stream",
     "text": [
      "Decision Tree:\n",
      "              precision    recall  f1-score   support\n",
      "\n",
      "           0       0.98      0.97      0.97    587279\n",
      "           1       0.80      0.85      0.83     90878\n",
      "\n",
      "    accuracy                           0.95    678157\n",
      "   macro avg       0.89      0.91      0.90    678157\n",
      "weighted avg       0.95      0.95      0.95    678157\n",
      "\n",
      "Confusion Matrix:\n",
      " [[568059  19220]\n",
      " [ 13333  77545]]\n",
      "AUC: 0.9586000043999164\n"
     ]
    }
   ],
   "source": [
    "from sklearn.tree import DecisionTreeClassifier\n",
    "tree_model = DecisionTreeClassifier(max_depth=5, class_weight='balanced', random_state=42)\n",
    "tree_model.fit(X_train, y_train)\n",
    "y_pred = tree_model.predict(X_test)\n",
    "y_pred_proba = tree_model.predict_proba(X_test)[:, 1]\n",
    "print(\"Decision Tree:\")\n",
    "print(classification_report(y_test, y_pred))\n",
    "print(\"Confusion Matrix:\\n\", confusion_matrix(y_test, y_pred))\n",
    "print(\"AUC:\", roc_auc_score(y_test, y_pred_proba))\n"
   ]
  },
  {
   "cell_type": "code",
   "execution_count": 34,
   "id": "9460fc60-3e53-49d3-813d-8e458431f951",
   "metadata": {},
   "outputs": [
    {
     "name": "stdout",
     "output_type": "stream",
     "text": [
      "Accuracy: 95.20\n",
      "Precision: 0.80\n",
      "Recall: 0.85\n",
      "F1-Score: 0.83\n",
      "AUC-ROC: 0.96\n",
      "Confusion Matrix:\n",
      "[[568059  19220]\n",
      " [ 13333  77545]]\n",
      "\n",
      "Classification Report:\n",
      "              precision    recall  f1-score   support\n",
      "\n",
      "           0       0.98      0.97      0.97    587279\n",
      "           1       0.80      0.85      0.83     90878\n",
      "\n",
      "    accuracy                           0.95    678157\n",
      "   macro avg       0.89      0.91      0.90    678157\n",
      "weighted avg       0.95      0.95      0.95    678157\n",
      "\n"
     ]
    },
    {
     "name": "stderr",
     "output_type": "stream",
     "text": [
      "C:\\Users\\goura\\anaconda3\\Lib\\site-packages\\sklearn\\base.py:493: UserWarning: X does not have valid feature names, but DecisionTreeClassifier was fitted with feature names\n",
      "  warnings.warn(\n"
     ]
    },
    {
     "data": {
      "image/png": "[encoded data removed]",
      "text/plain": [
       "<Figure size 640x480 with 1 Axes>"
      ]
     },
     "metadata": {},
     "output_type": "display_data"
    }
   ],
   "source": [
    "from sklearn.metrics import accuracy_score, precision_score, recall_score, f1_score, roc_auc_score, confusion_matrix, classification_report\n",
    "import matplotlib.pyplot as plt\n",
    "from sklearn.metrics import RocCurveDisplay\n",
    "\n",
    "# Predict class labels and probabilities\n",
    "y_pred = tree_model.predict(X_test)\n",
    "y_pred_proba = tree_model.predict_proba(X_test)[:, 1]  # Probability of the positive class\n",
    "\n",
    "# 1. Accuracy\n",
    "accuracy = accuracy_score(y_test, y_pred)\n",
    "print(f\"Accuracy: {accuracy*100:.2f}\")\n",
    "\n",
    "# 2. Precision\n",
    "precision = precision_score(y_test, y_pred)\n",
    "print(f\"Precision: {precision:.2f}\")\n",
    "\n",
    "# 3. Recall\n",
    "recall = recall_score(y_test, y_pred)\n",
    "print(f\"Recall: {recall:.2f}\")\n",
    "\n",
    "# 4. F1-Score\n",
    "f1 = f1_score(y_test, y_pred)\n",
    "print(f\"F1-Score: {f1:.2f}\")\n",
    "\n",
    "# 5. AUC-ROC\n",
    "auc_roc = roc_auc_score(y_test, y_pred_proba)\n",
    "print(f\"AUC-ROC: {auc_roc:.2f}\")\n",
    "\n",
    "# 6. Confusion Matrix\n",
    "conf_matrix = confusion_matrix(y_test, y_pred)\n",
    "print(\"Confusion Matrix:\")\n",
    "print(conf_matrix)\n",
    "\n",
    "# Detailed classification report\n",
    "print(\"\\nClassification Report:\")\n",
    "print(classification_report(y_test, y_pred))\n",
    "\n",
    "# Plotting the ROC curve\n",
    "RocCurveDisplay.from_estimator(tree_model, X_test_scaled, y_test)\n",
    "plt.title(\"ROC Curve\")\n",
    "plt.show()\n"
   ]
  },
  {
   "cell_type": "markdown",
   "id": "612f1378",
   "metadata": {},
   "source": [
    "# RANDOM FOREST"
   ]
  },
  {
   "cell_type": "code",
   "execution_count": null,
   "id": "2fbaa3ba-56c6-47f3-8b69-8c70828bfd13",
   "metadata": {},
   "outputs": [],
   "source": [
    "from sklearn.ensemble import RandomForestClassifier\n",
    "\n",
    "# Initialize and fit the model\n",
    "rf_model = RandomForestClassifier(n_estimators=100, class_weight='balanced', random_state=42)\n",
    "rf_model.fit(X_train_scaled, y_train)\n",
    "\n",
    "\n",
    "y_pred = rf_model.predict(X_test_scaled)\n",
    "y_pred_proba = rf_model.predict_proba(X_test_scaled)[:, 1]\n",
    "\n",
    "print(\"Random Forest:\")\n",
    "print(classification_report(y_test, y_pred))\n",
    "print(\"Confusion Matrix:\\n\", confusion_matrix(y_test, y_pred))\n",
    "print(\"AUC:\", roc_auc_score(y_test, y_pred_proba))\n"
   ]
  },
  {
   "cell_type": "code",
   "execution_count": null,
   "id": "cff24d70-3546-4dd7-bcb9-25742e58ea16",
   "metadata": {},
   "outputs": [],
   "source": [
    "from sklearn.metrics import accuracy_score, precision_score, recall_score, f1_score, roc_auc_score, confusion_matrix, classification_report\n",
    "import matplotlib.pyplot as plt\n",
    "from sklearn.metrics import RocCurveDisplay\n",
    "\n",
    "# Predict class labels and probabilities\n",
    "y_pred = rf_model.predict(X_test_scaled)\n",
    "y_pred_proba = rf_model.predict_proba(X_test_scaled)[:, 1]  # Probability of the positive class\n",
    "\n",
    "# 1. Accuracy\n",
    "accuracy = accuracy_score(y_test, y_pred)\n",
    "print(f\"Accuracy: {accuracy*100:.2f}\")\n",
    "\n",
    "# 2. Precision\n",
    "precision = precision_score(y_test, y_pred)\n",
    "print(f\"Precision: {precision:.2f}\")\n",
    "\n",
    "# 3. Recall\n",
    "recall = recall_score(y_test, y_pred)\n",
    "print(f\"Recall: {recall:.2f}\")\n",
    "\n",
    "# 4. F1-Score\n",
    "f1 = f1_score(y_test, y_pred)\n",
    "print(f\"F1-Score: {f1:.2f}\")\n",
    "\n",
    "# 5. AUC-ROC\n",
    "auc_roc = roc_auc_score(y_test, y_pred_proba)\n",
    "print(f\"AUC-ROC: {auc_roc:.2f}\")\n",
    "\n",
    "# 6. Confusion Matrix\n",
    "conf_matrix = confusion_matrix(y_test, y_pred)\n",
    "print(\"Confusion Matrix:\")\n",
    "print(conf_matrix)\n",
    "\n",
    "# Detailed classification report\n",
    "print(\"\\nClassification Report:\")\n",
    "print(classification_report(y_test, y_pred))\n",
    "\n",
    "# Plotting the ROC curve\n",
    "RocCurveDisplay.from_estimator(rf_model, X_test_scaled, y_test)\n",
    "plt.title(\"ROC Curve\")\n",
    "plt.show()\n"
   ]
  },
  {
   "cell_type": "markdown",
   "id": "7dbe63b1",
   "metadata": {},
   "source": [
    "# XGBOOST"
   ]
  },
  {
   "cell_type": "code",
   "execution_count": null,
   "id": "eab85f0f-5c90-44a3-bdc7-2414aa3a4fd8",
   "metadata": {},
   "outputs": [],
   "source": [
    "from xgboost import XGBClassifier\n",
    "\n",
    "# Initialize and fit the model\n",
    "xgb_model = XGBClassifier(n_estimators=100, learning_rate=0.1, max_depth=5, scale_pos_weight=10, random_state=42)\n",
    "xgb_model.fit(X_train_scaled, y_train)\n",
    "\n",
    "# Predictions\n",
    "y_pred = xgb_model.predict(X_test_scaled)\n",
    "y_pred_proba = xgb_model.predict_proba(X_test_scaled)[:, 1]\n",
    "\n",
    "# Evaluation\n",
    "print(\"XGBoost:\")\n",
    "print(classification_report(y_test, y_pred))\n",
    "print(\"Confusion Matrix:\\n\", confusion_matrix(y_test, y_pred))\n",
    "print(\"AUC:\", roc_auc_score(y_test, y_pred_proba))\n"
   ]
  },
  {
   "cell_type": "code",
   "execution_count": null,
   "id": "90c5a3c1-e3d9-474e-b201-16128926c0ec",
   "metadata": {},
   "outputs": [],
   "source": [
    "from sklearn.metrics import accuracy_score, precision_score, recall_score, f1_score, roc_auc_score, confusion_matrix, classification_report\n",
    "import matplotlib.pyplot as plt\n",
    "from sklearn.metrics import RocCurveDisplay\n",
    "\n",
    "# Predict class labels and probabilities\n",
    "y_pred = xgb_model.predict(X_test_scaled)\n",
    "y_pred_proba = xgb_model.predict_proba(X_test_scaled)[:, 1]  # Probability of the positive class\n",
    "\n",
    "# 1. Accuracy\n",
    "accuracy = accuracy_score(y_test, y_pred)\n",
    "print(f\"Accuracy: {accuracy*100:.2f}\")\n",
    "\n",
    "# 2. Precision\n",
    "precision = precision_score(y_test, y_pred)\n",
    "print(f\"Precision: {precision:.2f}\")\n",
    "\n",
    "# 3. Recall\n",
    "recall = recall_score(y_test, y_pred)\n",
    "print(f\"Recall: {recall:.2f}\")\n",
    "\n",
    "# 4. F1-Score\n",
    "f1 = f1_score(y_test, y_pred)\n",
    "print(f\"F1-Score: {f1:.2f}\")\n",
    "\n",
    "# 5. AUC-ROC\n",
    "auc_roc = roc_auc_score(y_test, y_pred_proba)\n",
    "print(f\"AUC-ROC: {auc_roc:.2f}\")\n",
    "\n",
    "# 6. Confusion Matrix\n",
    "conf_matrix = confusion_matrix(y_test, y_pred)\n",
    "print(\"Confusion Matrix:\")\n",
    "print(conf_matrix)\n",
    "\n",
    "# Detailed classification report\n",
    "print(\"\\nClassification Report:\")\n",
    "print(classification_report(y_test, y_pred))\n",
    "\n",
    "# Plotting the ROC curve\n",
    "RocCurveDisplay.from_estimator(pipeline, X_test_scaled, y_test)\n",
    "plt.title(\"ROC Curve\")\n",
    "plt.show()\n"
   ]
  },
  {
   "cell_type": "code",
   "execution_count": null,
   "id": "8c4a8a3d-5ae3-48ba-a63e-47ff9b6197cc",
   "metadata": {},
   "outputs": [],
   "source": []
  },
  {
   "cell_type": "code",
   "execution_count": null,
   "id": "8ef5112f-f4f8-4ab7-b18c-fe091c9d5ae3",
   "metadata": {},
   "outputs": [],
   "source": [
    "# from sklearn.linear_model import LogisticRegression\n",
    "\n",
    "# model = LogisticRegression(max_iter=200, class_weight='balanced', random_state=42)\n",
    "# model.fit(X_train_scaled, y_train)\n"
   ]
  },
  {
   "cell_type": "code",
   "execution_count": null,
   "id": "b84f8e78-81e2-4650-9452-5b06785afb49",
   "metadata": {},
   "outputs": [],
   "source": [
    "# from sklearn.preprocessing import StandardScaler\n",
    "# from sklearn.pipeline import Pipeline\n",
    "\n",
    "# pipeline = Pipeline([\n",
    "#     ('scaler', StandardScaler()),\n",
    "#     ('logistic', LogisticRegression(max_iter=200, class_weight='balanced', random_state=42))\n",
    "# ])\n",
    "\n",
    "# pipeline.fit(X_train_scaled, y_train)\n"
   ]
  },
  {
   "cell_type": "code",
   "execution_count": null,
   "id": "f36a3c22-5e25-4a07-815a-7eb64fb3fb91",
   "metadata": {},
   "outputs": [],
   "source": [
    "# model = LogisticRegression(solver='saga',penalty='l1', C=0.5,  max_iter=200, class_weight='balanced', random_state=42)\n",
    "# model.fit(X_train_scaled, y_train)\n"
   ]
  },
  {
   "cell_type": "code",
   "execution_count": null,
   "id": "82cc7021-3eae-483a-b722-8684f7c0ea16",
   "metadata": {},
   "outputs": [],
   "source": [
    "# from sklearn.metrics import classification_report, confusion_matrix, roc_curve, roc_auc_score, auc\n",
    "\n",
    "# # Assuming this is a binary classifier and predict() gives probabilities\n",
    "# predict_prob = pipeline.predict(X_test)\n",
    "\n",
    "# # Convert probabilities to binary class labels (0 or 1) using threshold of 0.5\n",
    "# predict = (predict_prob >= 0.5).astype(int)\n",
    "\n",
    "# # Now pass the binary predictions to the classification metrics\n",
    "# print(classification_report(y_test, predict))\n",
    "# print(\"Confusion Matrix:\\n\", confusion_matrix(y_test, predict))\n",
    "\n",
    "# # Calculate ROC curve and AUC score\n",
    "# fpr, tpr, thresholds = roc_curve(y_test, predict_prob)\n",
    "# roc_auc = auc(fpr, tpr)\n",
    "# print(\"AUC:\", roc_auc)\n",
    "\n",
    "# # Optionally, plot the ROC curve\n",
    "# import matplotlib.pyplot as plt\n",
    "\n",
    "# plt.figure()\n",
    "# plt.plot(fpr, tpr, label=f'ROC curve (area = {roc_auc:.2f})')\n",
    "# plt.plot([0, 1], [0, 1], color='navy', linestyle='--')\n",
    "# plt.xlim([0.0, 1.0])\n",
    "# plt.ylim([0.0, 1.05])\n",
    "# plt.xlabel('False Positive Rate')\n",
    "# plt.ylabel('True Positive Rate')\n",
    "# plt.title('Receiver Operating Characteristic (ROC)')\n",
    "# plt.legend(loc=\"lower right\")\n",
    "# plt.show()\n"
   ]
  },
  {
   "cell_type": "code",
   "execution_count": null,
   "id": "0592715d-5e69-4134-b2fe-41166f49b5b0",
   "metadata": {},
   "outputs": [],
   "source": [
    "# from sklearn.metrics import classification_report, confusion_matrix, roc_curve, roc_auc_score, auc\n",
    "\n",
    "# # Assuming this is a binary classifier and predict() gives probabilities\n",
    "# predict_prob = model.predict(X_test_scaled)\n",
    "\n",
    "# # Convert probabilities to binary class labels (0 or 1) using threshold of 0.5\n",
    "# predict = (predict_prob >= 0.5).astype(int)\n",
    "\n",
    "# # Now pass the binary predictions to the classification metrics\n",
    "# print(classification_report(y_test, predict))\n",
    "# print(\"Confusion Matrix:\\n\", confusion_matrix(y_test, predict))\n",
    "\n",
    "# # Calculate ROC curve and AUC score\n",
    "# fpr, tpr, thresholds = roc_curve(y_test, predict_prob)\n",
    "# roc_auc = auc(fpr, tpr)\n",
    "# print(\"AUC:\", roc_auc)\n",
    "\n",
    "# # Optionally, plot the ROC curve\n",
    "# import matplotlib.pyplot as plt\n",
    "\n",
    "# plt.figure()\n",
    "# plt.plot(fpr, tpr, label=f'ROC curve (area = {roc_auc:.2f})')\n",
    "# plt.plot([0, 1], [0, 1], color='navy', linestyle='--')\n",
    "# plt.xlim([0.0, 1.0])\n",
    "# plt.ylim([0.0, 1.05])\n",
    "# plt.xlabel('False Positive Rate')\n",
    "# plt.ylabel('True Positive Rate')\n",
    "# plt.title('Receiver Operating Characteristic (ROC)')\n",
    "# plt.legend(loc=\"lower right\")\n",
    "# plt.show()\n"
   ]
  },
  {
   "cell_type": "code",
   "execution_count": null,
   "id": "482378bd-61e7-4155-afae-789aaeddd89b",
   "metadata": {},
   "outputs": [],
   "source": []
  }
 ],
 "metadata": {
  "kernelspec": {
   "display_name": "Python 3 (ipykernel)",
   "language": "python",
   "name": "python3"
  },
  "language_info": {
   "codemirror_mode": {
    "name": "ipython",
    "version": 3
   },
   "file_extension": ".py",
   "mimetype": "text/x-python",
   "name": "python",
   "nbconvert_exporter": "python",
   "pygments_lexer": "ipython3",
   "version": "3.12.4"
  }
 },
 "nbformat": 4,
 "nbformat_minor": 5
}
